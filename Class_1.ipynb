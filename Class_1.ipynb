{
  "nbformat": 4,
  "nbformat_minor": 0,
  "metadata": {
    "colab": {
      "provenance": [],
      "toc_visible": true,
      "authorship_tag": "ABX9TyPwZslaOWQkMERh0H5Zhe86",
      "include_colab_link": true
    },
    "kernelspec": {
      "name": "python3",
      "display_name": "Python 3"
    },
    "language_info": {
      "name": "python"
    }
  },
  "cells": [
    {
      "cell_type": "markdown",
      "metadata": {
        "id": "view-in-github",
        "colab_type": "text"
      },
      "source": [
        "<a href=\"https://colab.research.google.com/github/shawk17/563-shawk17/blob/main/Class_1.ipynb\" target=\"_parent\"><img src=\"https://colab.research.google.com/assets/colab-badge.svg\" alt=\"Open In Colab\"/></a>"
      ]
    },
    {
      "cell_type": "code",
      "execution_count": 11,
      "metadata": {
        "id": "ybaMX_uFqVFE",
        "outputId": "1d916918-d754-4349-c267-1a1fbd7bc9e2",
        "colab": {
          "base_uri": "https://localhost:8080/"
        }
      },
      "outputs": [
        {
          "output_type": "stream",
          "name": "stdout",
          "text": [
            "1.6e+19\n",
            "1208925819614629174706176000000000000000000000000000000000000000000000000000000000000000000000000000000000000000000000000000000000000000000000000000000000000000000000000000000000000000000000000000000000000000000000000000000000000000000000000000000000000000000000000000000000000000000000000000000000000000000000000000000000000000000000000000000000000000000000000000000000000000000000000\n"
          ]
        }
      ],
      "source": [
        "# N = 20, alpha = 4E9, A = alpha^2\n",
        "# Entropy = ???\n",
        "\n",
        "alpha = 4E9\n",
        "places_can_sit = alpha**2\n",
        "N = 20\n",
        "print(places_can_sit)\n",
        "total_congfigs = int(places_can_sit)**N\n",
        "print(total_congfigs)"
      ]
    },
    {
      "cell_type": "code",
      "source": [
        "# how many years will it take to  evaluate\n",
        "total_years = total_congfigs // (365*24*60*60*267*10**7)\n",
        "print(total_years)"
      ],
      "metadata": {
        "id": "hyFEit_ExRtG",
        "outputId": "48a2773a-ef5c-4ff4-b27e-584cb61d1dc8",
        "colab": {
          "base_uri": "https://localhost:8080/"
        }
      },
      "execution_count": 16,
      "outputs": [
        {
          "output_type": "stream",
          "name": "stdout",
          "text": [
            "14357597851603745588018021613014173683200413486186407021664319904533336373672939267316159214984313747845634357357716856972923875596904174196257721987546008889192922849482287171477053986930340118991291327241252847943115245972975181327754310156444474847840503784272703260954248589567454684688279680840349867080152853073688330986571200003040339605933982825881650980414512\n"
          ]
        }
      ]
    },
    {
      "cell_type": "code",
      "source": [],
      "metadata": {
        "id": "wYv9mGuI0KmQ"
      },
      "execution_count": null,
      "outputs": []
    }
  ]
}