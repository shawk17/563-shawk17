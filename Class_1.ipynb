{
  "nbformat": 4,
  "nbformat_minor": 0,
  "metadata": {
    "colab": {
      "provenance": [],
      "toc_visible": true,
      "authorship_tag": "ABX9TyNXdqUOCiUlFjSGDm2BjGf5",
      "include_colab_link": true
    },
    "kernelspec": {
      "name": "python3",
      "display_name": "Python 3"
    },
    "language_info": {
      "name": "python"
    }
  },
  "cells": [
    {
      "cell_type": "markdown",
      "metadata": {
        "id": "view-in-github",
        "colab_type": "text"
      },
      "source": [
        "<a href=\"https://colab.research.google.com/github/shawk17/563-shawk17/blob/main/Class_1.ipynb\" target=\"_parent\"><img src=\"https://colab.research.google.com/assets/colab-badge.svg\" alt=\"Open In Colab\"/></a>"
      ]
    },
    {
      "cell_type": "code",
      "execution_count": 17,
      "metadata": {
        "id": "ybaMX_uFqVFE",
        "colab": {
          "base_uri": "https://localhost:8080/"
        },
        "outputId": "0b7f5fda-c898-4471-c49f-21f0999cfeae"
      },
      "outputs": [
        {
          "output_type": "stream",
          "name": "stdout",
          "text": [
            "16000000000000000000\n",
            "1208925819614629174706176000000000000000000000000000000000000000000000000000000000000000000000000000000000000000000000000000000000000000000000000000000000000000000000000000000000000000000000000000000000000000000000000000000000000000000000000000000000000000000000000000000000000000000000000000000000000000000000000000000000000000000000000000000000000000000000000000000000000000000000000\n"
          ]
        }
      ],
      "source": [
        "# N = 20, alpha = 4E9, A = alpha^2\n",
        "# Entropy = ???\n",
        "\n",
        "alpha = 4E9\n",
        "places_can_sit = int(alpha)**2\n",
        "N = 20\n",
        "print(places_can_sit)\n",
        "total_congfigs = places_can_sit**N\n",
        "print(total_congfigs)"
      ]
    },
    {
      "cell_type": "code",
      "source": [
        "# how many years will it take to  evaluate\n",
        "# Try to keep the numbers close to 1, adding smaller numbers to large numbers is\n",
        "### less precise than adding the small numbers, then the large numbers\n",
        "cps = int(2.67E9)\n",
        "total_years = total_congfigs // (365*24*60*60*cps) // (10**360)\n",
        "print(total_years)"
      ],
      "metadata": {
        "colab": {
          "base_uri": "https://localhost:8080/"
        },
        "id": "hyFEit_ExRtG",
        "outputId": "843274c6-1a56-4c9a-f14c-9eb7160dd176"
      },
      "execution_count": 23,
      "outputs": [
        {
          "output_type": "stream",
          "name": "stdout",
          "text": [
            "14357597\n"
          ]
        }
      ]
    },
    {
      "cell_type": "code",
      "source": [],
      "metadata": {
        "id": "wYv9mGuI0KmQ"
      },
      "execution_count": null,
      "outputs": []
    }
  ]
}