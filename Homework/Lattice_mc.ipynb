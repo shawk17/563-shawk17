{
  "nbformat": 4,
  "nbformat_minor": 0,
  "metadata": {
    "colab": {
      "provenance": [],
      "authorship_tag": "ABX9TyNamWU1UPXMBuhKSkTxpkFn",
      "include_colab_link": true
    },
    "kernelspec": {
      "name": "python3",
      "display_name": "Python 3"
    },
    "language_info": {
      "name": "python"
    }
  },
  "cells": [
    {
      "cell_type": "markdown",
      "metadata": {
        "id": "view-in-github",
        "colab_type": "text"
      },
      "source": [
        "<a href=\"https://colab.research.google.com/github/shawk17/563-shawk17/blob/main/Lattice_mc.ipynb\" target=\"_parent\"><img src=\"https://colab.research.google.com/assets/colab-badge.svg\" alt=\"Open In Colab\"/></a>"
      ]
    },
    {
      "cell_type": "markdown",
      "source": [
        "# Lattice MC\n",
        "* impolement square-lattice\n",
        "* particles to sit on a grid\n",
        "* calculate the energy of your grid\n",
        "* trial moves that implement detailed balance\n",
        "* have pbc\n",
        "  * The effect of the interface increases the less particles you have. PBC helps alliviate this effect.\n",
        "$$P_{\\text{rand part}} * P_{\\text{choose empty site next to another particle}} * \\exp(-ΔE/kT)$$"
      ],
      "metadata": {
        "id": "UE-niVlNsMl3"
      }
    },
    {
      "cell_type": "markdown",
      "source": [
        "### I used ChatGTP to help fix my code\n",
        "I had an error in the code (see the bottom of the page), so I ended up getting rid of the particle class and used ChatGTP to help fix this code, then I added a bunch of things (like the different move types, graphing, different temperatures, ect)"
      ],
      "metadata": {
        "id": "zbd3Y7BEwhOM"
      }
    },
    {
      "cell_type": "code",
      "source": [
        "import numpy as np\n",
        "import random\n",
        "import matplotlib.pyplot as plt\n",
        "import copy\n",
        "\n",
        "class Grid:\n",
        "    def __init__(self, L, N, kT=1, move_type = 'step'):\n",
        "        # Grid setup\n",
        "        self.L = L\n",
        "        self.grid = np.zeros((L, L), dtype=int)\n",
        "        self.particles = []  # List of particle coordinates [(x1, y1), (x2, y2), ...]\n",
        "        self.populate(N)\n",
        "        self.neighbor_locs = [[0, 1], [0, -1], [1, 0], [-1, 0]]\n",
        "        self.energy = self.get_energy()\n",
        "        self.kT = kT\n",
        "        self.energies = [self.energy]\n",
        "        self.move_type = move_type\n",
        "\n",
        "    def populate(self, N):\n",
        "      \"\"\"Efficiently populate the grid with N particles.\"\"\"\n",
        "      # Generate all possible grid positions and shuffle them\n",
        "      positions = [(x, y) for x in range(self.L) for y in range(self.L)]\n",
        "      random.shuffle(positions)\n",
        "\n",
        "      # Select the first N positions and populate the grid\n",
        "      for x, y in positions[:N]:\n",
        "          self.grid[x, y] = 1\n",
        "          self.particles.append((x, y))\n",
        "\n",
        "\n",
        "    def get_neighbors(self, x, y):\n",
        "        \"\"\"Get the neighboring grid values for a given particle position.\"\"\"\n",
        "        neighbors = []\n",
        "        for loc in self.neighbor_locs:\n",
        "            nx = (x + loc[0]) % self.L\n",
        "            ny = (y + loc[1]) % self.L\n",
        "            neighbors.append(self.grid[nx, ny])\n",
        "        return neighbors\n",
        "\n",
        "    def update_grid(self):\n",
        "        \"\"\"Update the grid based on particle positions.\"\"\"\n",
        "        self.grid = np.zeros((self.L, self.L), dtype=int)\n",
        "        for x, y in self.particles:\n",
        "            self.grid[x, y] = 1\n",
        "\n",
        "    def get_energy(self):\n",
        "        \"\"\"Calculate the energy of the current microstate.\"\"\"\n",
        "        energy = 0\n",
        "        for x, y in self.particles:\n",
        "            neighbors = self.get_neighbors(x, y)\n",
        "            energy += -sum(neighbors)  # Interaction energy\n",
        "        return energy\n",
        "\n",
        "    def get_random_loc(self):\n",
        "        \"\"\"Get a random location for a particle to move to.\"\"\"\n",
        "        if self.move_type == 'step':\n",
        "            return random.choice(self.neighbor_locs)\n",
        "        elif self.move_type == 'random':\n",
        "            return [random.randint(0, self.L-1), random.randint(0, self.L-1)]\n",
        "        else:\n",
        "            raise ValueError(\"Invalid move type. Must be 'step' or 'random'.\")\n",
        "\n",
        "    def try_move(self):\n",
        "        \"\"\"Attempt to move a randomly chosen particle.\"\"\"\n",
        "        move = self.get_random_loc()\n",
        "        new_particles = copy.deepcopy(self.particles)\n",
        "\n",
        "        # Select a random particle to move\n",
        "        particle_index = np.random.randint(len(new_particles))\n",
        "        x, y = new_particles[particle_index]\n",
        "\n",
        "        # Compute new position with periodic boundary conditions\n",
        "        new_x = (x + move[0]) % self.L\n",
        "        new_y = (y + move[1]) % self.L\n",
        "\n",
        "        # Check if the new position is occupied\n",
        "        if self.grid[new_x, new_y] == 1:\n",
        "            return False\n",
        "\n",
        "        # Update the particle position\n",
        "        new_particles[particle_index] = (new_x, new_y)\n",
        "\n",
        "        # Calculate the energy change\n",
        "        new_energy = self.get_energy_with_particles(new_particles)\n",
        "        delta_E = new_energy - self.energy\n",
        "\n",
        "        # Accept or reject the move\n",
        "        if delta_E < 0 or np.random.rand() < np.exp(-delta_E / self.kT):\n",
        "            self.particles = new_particles\n",
        "            self.energy = new_energy\n",
        "            self.update_grid()\n",
        "            return True\n",
        "        return False\n",
        "\n",
        "    def get_energy_with_particles(self, particles):\n",
        "        \"\"\"Calculate energy for a given particle configuration.\"\"\"\n",
        "        energy = 0\n",
        "        for x, y in particles:\n",
        "            neighbors = self.get_neighbors(x, y)\n",
        "            energy += -sum(neighbors)\n",
        "        return energy\n",
        "\n",
        "    def simulate(self, t=1000):\n",
        "        \"\"\"Run the simulation for t steps.\"\"\"\n",
        "        for _ in range(t):\n",
        "            self.try_move()\n",
        "            self.energies.append(self.energy)\n",
        "        return self.energies\n",
        "\n",
        "\n",
        "\n"
      ],
      "metadata": {
        "id": "djCn2ml_4XmK"
      },
      "execution_count": 1,
      "outputs": []
    },
    {
      "cell_type": "code",
      "source": [
        "kT = [0.1,0.4, 0.5, 0.6,0.7, 1, 2, 5]\n",
        "kT = [0.1]\n",
        "average = 1\n",
        "move_types = ['random', 'step']\n",
        "N = 20\n",
        "L = 7\n",
        "all_energies = {}\n",
        "\n",
        "for move_type in move_types:\n",
        "  for T in kT:\n",
        "    print(f'kT = {T}, move type = {move_type}')\n",
        "    total_energy = []\n",
        "\n",
        "    for i in range(average):\n",
        "      grid_step = Grid(L, N, kT = T, move_type = move_type)\n",
        "      energies = grid_step.simulate(t = 2000)\n",
        "      total_energy.append(energies)\n",
        "\n",
        "    energies = np.mean(total_energy/(2*N), axis = 0)\n",
        "\n",
        "    # Plotting\n",
        "    all_energies[f'kT = {T}, {move_type}'] = energies\n",
        "\n"
      ],
      "metadata": {
        "id": "zww7yXoOEcKI",
        "colab": {
          "base_uri": "https://localhost:8080/"
        },
        "outputId": "0d8a8bd5-7b08-44d0-d57e-636f4f79f39c"
      },
      "execution_count": 5,
      "outputs": [
        {
          "output_type": "stream",
          "name": "stdout",
          "text": [
            "kT = 0.1, move type = random\n",
            "kT = 0.1, move type = step\n"
          ]
        }
      ]
    },
    {
      "cell_type": "code",
      "source": [
        "# Graph with subplots\n",
        "print(grid_step.grid)\n",
        "fig, (ax1, ax2) = plt.subplots(1, 2, figsize=(14, 5), sharey = True)\n",
        "\n",
        "for energy_label in all_energies:\n",
        "    energies = all_energies[energy_label]\n",
        "\n",
        "    if 'random' in energy_label:\n",
        "        ax1.plot(energies, label=energy_label)\n",
        "        ax1.set_title('Random Moves')\n",
        "    else:\n",
        "        ax2.plot(energies, label=energy_label)\n",
        "        ax2.set_title('Step Moves')\n",
        "\n",
        "# Add labels, legends, and a shared y-axis label\n",
        "ax1.set_xlabel('Simulation Steps')\n",
        "ax1.set_ylabel('Energy')\n",
        "ax1.legend()\n",
        "\n",
        "ax2.set_xlabel('Simulation Steps')\n",
        "ax2.legend()\n",
        "\n",
        "plt.tight_layout()\n",
        "plt.suptitle('Energy vs. Simulation Steps')\n",
        "plt.show()"
      ],
      "metadata": {
        "colab": {
          "base_uri": "https://localhost:8080/",
          "height": 531
        },
        "id": "5c4byLhqD9VS",
        "outputId": "f50acbe4-345f-4ea4-df20-acc5cafbd04a"
      },
      "execution_count": 7,
      "outputs": [
        {
          "output_type": "stream",
          "name": "stdout",
          "text": [
            "[[0 0 0 1 0 1 0]\n",
            " [1 0 0 1 1 1 1]\n",
            " [1 0 0 1 1 1 1]\n",
            " [1 1 0 0 0 0 0]\n",
            " [1 1 0 0 0 0 0]\n",
            " [1 1 0 0 0 0 0]\n",
            " [1 1 0 0 0 0 0]]\n"
          ]
        },
        {
          "output_type": "display_data",
          "data": {
            "text/plain": [
              "<Figure size 1400x500 with 2 Axes>"
            ],
            "image/png": "[encoded data removed]"
          },
          "metadata": {}
        }
      ]
    },
    {
      "cell_type": "markdown",
      "source": [
        "## Analysis\n",
        "* Moving to a random spot on the grid seems to find lower energies than moving 1 step at a time. As well as equilibrating faster (getting to a constant energy). I am assuming the same temperatures should equilibrate to the same values eventually?\n",
        "* 0.1 kT rarely if ever goes to a higher energy, it seems to be on a steady downward trend.\n",
        "* 5 kT seems to accept almost every move, increasing the kT doesn't change it much.\n",
        "* Between 0.4 and 1 kT there is a large difference, is this related to something like a melting temperature?\n",
        "* The plots look almost the exact same at a larger system size (L=10, N=20 vs L=20, N = 40), it also took about twice as long to run.\n",
        "* The high temperatures I am pretty certain are equilibrated, but the low temperatures (0.1, 0.4 kT) still seem to be dropping.\n",
        "* There are probably better ways to calculate the energy so the total runtime would scale O(1), or just based on the number of time steps, but the way I am currently doing it, it seems to scale O(N*L), as changing both number of particles and length by a factor of 2 just about doubles the simulation time.\n",
        "## Future Work\n",
        "It would be interesting to keep track of the particle islands at different temperatures, densities, and move types. There is a lot of work to make this code more efficient (ie calculate the energy change by just looking at the particle that moved and not the whole system). It would also be nice to learn how to implement a code that just looks at moving to open spots, instead of moving to any spot. Also I should probably run for more equilibration steps so the lower temperatures can equilibrate.\n"
      ],
      "metadata": {
        "id": "MA-sBwQh6Qi9"
      }
    },
    {
      "cell_type": "markdown",
      "source": [
        "### Errors Below\n",
        "This was my first attempt, I ran into to many errors, so I had ChatGTP help me rewrite it."
      ],
      "metadata": {
        "id": "Fq0ITJlVIWXk"
      }
    },
    {
      "cell_type": "code",
      "source": [
        "import numpy as np\n",
        "import random\n",
        "import matplotlib.pyplot as plt\n",
        "import copy\n",
        "\n",
        "\n",
        "class Grid:\n",
        "  def __init__(self, L,  N, kT = 1):\n",
        "    # Grid\n",
        "    self.L = L\n",
        "    self.grid = np.zeros((L, L))\n",
        "    self.populate(N)\n",
        "    self.update_grid()\n",
        "    self.neighbor_locs = [[0,1],[0,-1],[1,0],[-1,0]]\n",
        "    self.energy = self.get_energy()\n",
        "    self.kT = kT\n",
        "    self.energies = [self.energy]\n",
        "\n",
        "  # Particles\n",
        "  def populate(self, N):\n",
        "    self.N = []\n",
        "    for i in range(N):\n",
        "      while True: # This can be better, maybe using pop\n",
        "        x = np.random.randint(0, self.L)\n",
        "        y = np.random.randint(0, self.L)\n",
        "        if self.grid[x, y] == 0:\n",
        "          self.grid[x, y] = 1\n",
        "          self.N.append(Particle(x, y, self))\n",
        "          break\n",
        "\n",
        "  def get_neighbors(self):\n",
        "    neighbors = []\n",
        "    for loc in self.neighbor_locs:\n",
        "      neighbors.append(self.system.grid[(self.x + loc[0]) % self.system.L, (self.y + loc[1]) % self.system.L])\n",
        "    return neighbors\n",
        "\n",
        "  def update_grid(self):\n",
        "    self.grid = np.zeros((self.L, self.L))\n",
        "    for n in self.N:\n",
        "      self.grid[n.x, n.y] = n.id\n",
        "\n",
        "  # calc energy of a configuarion (microstate)\n",
        "  def get_energy(self, N = False):\n",
        "    if not N:\n",
        "      N = self.N\n",
        "\n",
        "    energy = 0\n",
        "    for n in N:\n",
        "      energy += sum(n.get_neighbors())*(-1)\n",
        "    return energy\n",
        "\n",
        "  def get_particle_energy(self, n):\n",
        "    energy += sum(n.get_neighbors)*n.energy\n",
        "    return energy\n",
        "\n",
        "  def try_move(self):\n",
        "    # Make a new config\n",
        "    direction = random.choice(self.neighbor_locs)\n",
        "    N_new = copy.deepcopy(self.N)\n",
        "    for n in N_new:\n",
        "      n.system = self\n",
        "    n = np.random.choice(N_new) # Probability of choosing a particle\n",
        "    n.x = (n.x + direction[0]) % self.L\n",
        "    n.y = (n.y + direction[1]) % self.L\n",
        "    if not self.grid[n.x, n.y] == 0:\n",
        "      return False\n",
        "    else:\n",
        "      # Calculate Energy\n",
        "      # Calculate delta E\n",
        "      # Accept or reject\n",
        "      new_energy = self.get_energy(N_new)\n",
        "      delta_E = new_energy - self.energy\n",
        "      if delta_E < 0:\n",
        "        self.energy = new_energy\n",
        "        self.N = N_new\n",
        "        self.update_grid()\n",
        "        return True\n",
        "      elif np.random.rand() < np.exp(-delta_E/self.kT):\n",
        "        #print(delta_E)\n",
        "        self.energy = new_energy\n",
        "        self.N = N_new\n",
        "        self.update_grid()\n",
        "        return True\n",
        "      else:\n",
        "        return False\n",
        "\n",
        "  def simulate(self, t = 1000):\n",
        "    for i in range(t):\n",
        "      self.try_move()\n",
        "      self.energies.append(self.energy)\n",
        "    return self.grid"
      ],
      "metadata": {
        "id": "rJi_dVvTrGHy"
      },
      "execution_count": null,
      "outputs": []
    },
    {
      "cell_type": "code",
      "source": [
        "grid = Grid(3, 3, kT = 0.04)\n",
        "grid.grid = np.array([[0,1,0],[0,1,0],[0,0,1]])\n",
        "print(grid.grid)\n",
        "print(grid.get_energy())\n",
        "print(grid.simulate(t = 10))\n",
        "print(grid.get_energy())\n",
        "plt.plot(grid.energies)\n",
        "plt.show()"
      ],
      "metadata": {
        "id": "BjZuq-VrwW5B"
      },
      "execution_count": null,
      "outputs": []
    }
  ]
}
