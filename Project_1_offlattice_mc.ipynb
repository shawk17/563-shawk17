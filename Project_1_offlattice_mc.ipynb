{
  "nbformat": 4,
  "nbformat_minor": 0,
  "metadata": {
    "colab": {
      "provenance": [],
      "include_colab_link": true
    },
    "kernelspec": {
      "name": "python3",
      "display_name": "Python 3"
    },
    "language_info": {
      "name": "python"
    }
  },
  "cells": [
    {
      "cell_type": "markdown",
      "metadata": {
        "id": "view-in-github",
        "colab_type": "text"
      },
      "source": [
        "<a href=\"https://colab.research.google.com/github/shawk17/563-shawk17/blob/main/Project_1_offlattice_mc.ipynb\" target=\"_parent\"><img src=\"https://colab.research.google.com/assets/colab-badge.svg\" alt=\"Open In Colab\"/></a>"
      ]
    },
    {
      "cell_type": "markdown",
      "source": [
        "# Project 1 Code\n",
        "\n",
        "$$V_{LJ} = 4ϵ[(\\frac{σ}{r})^{12} - (\\frac{σ}{r})^6]$$"
      ],
      "metadata": {
        "id": "G5yC3tUluk7D"
      }
    },
    {
      "cell_type": "code",
      "source": [
        "#HW4\n",
        "import numpy as np\n",
        "import matplotlib.pyplot as plt\n",
        "import time\n",
        "from itertools import combinations, product\n",
        "import copy\n",
        "import math\n",
        "\n",
        "NA = 6.022E23 # Avogadro's number\n",
        "R = 8.314472 # J/K/mol\n",
        "\n",
        "class Particle():\n",
        "  def __init__(self,L, dim=3, id = 1):\n",
        "    loc = np.random.rand(dim)*L\n",
        "    self.location = np.array(loc)\n",
        "    self.id = id\n",
        "\n",
        "  def __repr__(self):\n",
        "    return f'{self.id}'"
      ],
      "metadata": {
        "id": "LZtvkntQwvMr"
      },
      "execution_count": 2,
      "outputs": []
    },
    {
      "cell_type": "code",
      "source": [
        "# @title\n",
        "class Volume():\n",
        "  def __init__(self,N=5,L=4,T=1.0, epsilon=1, sigma = 1, m = 40,dim=3, rcut=2.5):\n",
        "    self.rcut = rcut*sigma\n",
        "    self.L = L\n",
        "    self.N = N\n",
        "    self.epsilon = epsilon\n",
        "    self.T = T\n",
        "    self.sigma = sigma\n",
        "    self.m = m\n",
        "    self.dim = dim\n",
        "\n",
        "    self.particles = []\n",
        "    for i in range(self.N):\n",
        "      p = Particle(L, dim=dim, id = i)\n",
        "      self.particles.append(p)\n",
        "\n",
        "\n",
        "    self.particle_pairs = list(combinations(self.particles, 2))\n",
        "    self.E = self.energy()\n",
        "    self.m = m\n",
        "    self.V = self.L**3\n",
        "    self.rho = self.N / self.V\n",
        "\n",
        "  def energy(self):\n",
        "    energy = 0\n",
        "    for pair in self.particle_pairs:\n",
        "      energy += self.LJ(pair[0].location, pair[1].location)\n",
        "    return energy\n",
        "\n",
        "  def particle_energy(self, p):\n",
        "    energy = 0\n",
        "    for particle in self.particles:\n",
        "      if not p == particle:\n",
        "        energy += self.LJ(particle.location, p.location)\n",
        "    return energy\n",
        "\n",
        "  def position_energy(self, pos, p=None):\n",
        "    energy = 0\n",
        "    for particle in self.particles:\n",
        "      if not p == particle:\n",
        "        energy += self.LJ(particle.location, pos)\n",
        "    return energy\n",
        "\n",
        "  def LJ(self, site1, site2):\n",
        "    delta = site1 - site2\n",
        "    delta -= self.L * np.round(delta / self.L)  # Minimum image convention\n",
        "    r = np.linalg.norm(delta)\n",
        "    if r > self.rcut:\n",
        "      return 0\n",
        "\n",
        "    r /= self.sigma\n",
        "\n",
        "    if r == 0:  # Avoid division by zero\n",
        "        return 0\n",
        "    # Compute potential energy\n",
        "    U = 4 * self.epsilon * (1/r**12 - 1/r**6)\n",
        "\n",
        "    return U"
      ],
      "metadata": {
        "id": "JamNZa6E6g0o"
      },
      "execution_count": 55,
      "outputs": []
    },
    {
      "cell_type": "code",
      "source": [
        "# Simulation class\n",
        "class Simulation():\n",
        "  def __init__(self,move=0.1,N=5,L=3,T=1.,seed=False, verbose = True, **kwargs):\n",
        "    if seed:\n",
        "      np.random.seed(seed)\n",
        "    self.volume = Volume(N,L,T, **kwargs)\n",
        "    self.volume.E = self.volume.E\n",
        "    self.move = move\n",
        "    self.accepted = 0\n",
        "    self.rejected = 0\n",
        "    self.steps = 0\n",
        "    self.pressures = []\n",
        "    self.energies = []\n",
        "    self.verbose = verbose\n",
        "\n",
        "  def __repr__(self):\n",
        "    return f'rho: {self.volume.rho:.2g}, T: {self.volume.T}, A: {self.accepted}, R {self.rejected}, steps: {self.steps}, time: {self.time:.3g}, E: {self.volume.E:.3g}'\n",
        "\n",
        "  def trial_move(self):\n",
        "    p = np.random.choice(self.volume.particles)\n",
        "    dr = np.random.uniform(-self.move, self.move, len(p.location))\n",
        "    new_pos = (p.location + dr) % self.volume.L # Apply periodic boundaries\n",
        "\n",
        "    poldE = self.volume.particle_energy(p)\n",
        "    pnewE = self.volume.position_energy(new_pos, p=p)\n",
        "    dE = pnewE - poldE\n",
        "\n",
        "    self.steps += 1\n",
        "    if dE < 0 or np.random.rand() < np.exp(-dE/self.volume.T):\n",
        "      p.location = new_pos\n",
        "      self.volume.E += dE\n",
        "      self.accepted += 1\n",
        "      return\n",
        "    else:\n",
        "      self.rejected += 1\n",
        "      return\n",
        "\n",
        "  def run(self, steps, move_gradient = None, max_time = 300, keep_loc = False):\n",
        "    gradient=False\n",
        "    self.particle_locs = []\n",
        "\n",
        "    if not move_gradient is None:\n",
        "      gradient = True\n",
        "      move_gradient = np.linspace(move_gradient[0], move_gradient[1], steps)\n",
        "\n",
        "    t1 = time.perf_counter()\n",
        "    if self.verbose:\n",
        "      print(f'The number of particles is {self.volume.N}')\n",
        "      print(f'Starting per particle energy {self.volume.E/self.volume.N:.4g}')\n",
        "\n",
        "    for i in range(steps):\n",
        "      self.trial_move()\n",
        "      self.energies.append(self.volume.E/self.volume.N)\n",
        "      if gradient:\n",
        "        self.move = move_gradient[i]\n",
        "      if time.perf_counter() - t1 > max_time:\n",
        "        print(f'Reached max time of {max_time} seconds')\n",
        "        break\n",
        "      if keep_loc:\n",
        "        self.particle_locs.append(copy.deepcopy(self.volume.particles))\n",
        "    t2 = time.perf_counter()\n",
        "    self.time = t2 - t1\n",
        "    if self.verbose:\n",
        "      print(f'Ran {steps} in {t2-t1:.5g} seconds')\n",
        "      print(f'Acceptance: {self.accepted/steps};    Rejection: {self.rejected/steps}')\n",
        "      print(f'Ending per particle energy {self.volume.E/self.volume.N:.4g}')\n",
        "    return t2 - t1"
      ],
      "metadata": {
        "id": "1-GJ03ClwbhH"
      },
      "execution_count": 62,
      "outputs": []
    },
    {
      "cell_type": "markdown",
      "source": [
        "# Answering Question"
      ],
      "metadata": {
        "id": "-poGryZZioP5"
      }
    },
    {
      "cell_type": "markdown",
      "source": [
        "## Find Independent Samples"
      ],
      "metadata": {
        "id": "PcInBSL0ixuf"
      }
    },
    {
      "cell_type": "code",
      "source": [
        "import numpy as np\n",
        "\n",
        "def autocorr1D(array):\n",
        "    ft = np.fft.rfft(array - np.average(array))\n",
        "    acorr = np.fft.irfft(ft * np.conjugate(ft)) / (len(array) * np.var(array))\n",
        "    return acorr[0 : len(acorr) // 2]\n",
        "\n",
        "def find_sample_distance(array):\n",
        "  acorr = autocorr1D(array)\n",
        "  return np.where(acorr < 0)[0][0]\n",
        "\n",
        "def find_independent_samples(array):\n",
        "  length = len(array)\n",
        "  dist = find_sample_distance(array)\n",
        "  return length // dist\n",
        "\n",
        "def find_max_independent_samples(array, skip = 100):\n",
        "  samples_keep = []\n",
        "  lengths = []\n",
        "  max_samples = 0\n",
        "  start = 0\n",
        "  for i in range(int(len(array)//skip)):\n",
        "    samples = find_independent_samples(array[i*skip:])\n",
        "    samples_keep.append(samples)\n",
        "    lengths.append(len(array[i*skip:]))\n",
        "\n",
        "    if samples > max_samples:\n",
        "      max_samples = samples\n",
        "      start = i*skip\n",
        "\n",
        "  #plt.plot(lengths, samples_keep)\n",
        "  #plt.xlabel('Array Length')\n",
        "  #plt.ylabel('Samples')\n",
        "  #plt.show()\n",
        "  jump = len(array) // max_samples\n",
        "  return start, max_samples, jump"
      ],
      "metadata": {
        "id": "xi0KJmyui30i"
      },
      "execution_count": 60,
      "outputs": []
    },
    {
      "cell_type": "markdown",
      "source": [
        "## Run simulations"
      ],
      "metadata": {
        "id": "nveQz8-xi4O1"
      }
    },
    {
      "cell_type": "code",
      "source": [
        "# N/V = 0.5\n",
        "\n",
        "step = 100000\n",
        "T = [0.5,0.5,2,2]\n",
        "N = 50\n",
        "rho = [0.5,0.7,0.5,0.7]\n",
        "\n",
        "simulations = []\n",
        "for i in range(4):\n",
        "  L = (N / rho[i])**(1/3)\n",
        "\n",
        "  sim = Simulation(move=0.1, N=N, L=L, T=T[i], epsilon=1,\n",
        "                  sigma=1, dim=3, verbose=False, seed = i)\n",
        "  sim.run(step, move_gradient = None)\n",
        "  simulations.append(sim)\n",
        "  print(sim)\n",
        "\n"
      ],
      "metadata": {
        "id": "4R0iRKM2xIdn",
        "outputId": "d51fe183-38ef-4de1-933f-a96933aea56a",
        "colab": {
          "base_uri": "https://localhost:8080/"
        }
      },
      "execution_count": 73,
      "outputs": [
        {
          "output_type": "stream",
          "name": "stdout",
          "text": [
            "rho: 0.5, T: 0.5, A: 50034, R 49966, steps: 100000, time: 137, E: -204\n",
            "rho: 0.7, T: 0.5, A: 48043, R 51957, steps: 100000, time: 139, E: -243\n",
            "rho: 0.5, T: 2, A: 74963, R 25037, steps: 100000, time: 137, E: -147\n",
            "rho: 0.7, T: 2, A: 63472, R 36528, steps: 100000, time: 138, E: -190\n"
          ]
        }
      ]
    },
    {
      "cell_type": "code",
      "source": [
        "for sim in simulations:\n",
        "  start, max_samples, jump = find_max_independent_samples(sim.energies[1000:], skip = 50)\n",
        "\n",
        "  new_start = start +  1000\n",
        "  ave_energies = np.mean(sim.energies[new_start::jump])\n",
        "  std_energies = np.std(sim.energies[new_start::jump])\n",
        "\n",
        "  print(f'\\nStart: {new_start}, Max Samples: {max_samples}, Jump: {jump}')\n",
        "  print(f'L {L:.3g}, N {N}, rho {sim.volume.rho:.3g}, T {sim.volume.T}, ave_E {ave_energies:.2f} +/- {std_energies:.3f}')\n",
        "\n",
        "  #start = new_start\n",
        "  #plt.plot(range(new_start, len(sim.energies)),sim.energies[new_start:])\n",
        "  #plt.show()"
      ],
      "metadata": {
        "id": "ifE6H9e5yeMq",
        "outputId": "3cfa4569-4c5f-4be2-b68a-e6f668721899",
        "colab": {
          "base_uri": "https://localhost:8080/"
        }
      },
      "execution_count": 75,
      "outputs": [
        {
          "output_type": "stream",
          "name": "stdout",
          "text": [
            "\n",
            "Start: 91150, Max Samples: 17, Jump: 5823\n",
            "L 4.15, N 50, rho 0.5, T 0.5, ave_E -4.12 +/- 0.071\n",
            "\n",
            "Start: 1400, Max Samples: 31, Jump: 3193\n",
            "L 4.15, N 50, rho 0.7, T 0.5, ave_E -4.86 +/- 0.089\n",
            "\n",
            "Start: 50, Max Samples: 54, Jump: 1833\n",
            "L 4.15, N 50, rho 0.5, T 2, ave_E -2.84 +/- 0.268\n",
            "\n",
            "Start: 0, Max Samples: 42, Jump: 2357\n",
            "L 4.15, N 50, rho 0.7, T 2, ave_E -3.68 +/- 0.908\n"
          ]
        }
      ]
    },
    {
      "cell_type": "code",
      "source": [
        "N = 50\n",
        "L = (N / 0.5)**(1/3)\n",
        "\n",
        "sim = Simulation(move=0.1, N=N, L=L, T=0.5, epsilon=1,\n",
        "                sigma=1, dim=3, verbose=False, seed = i)\n",
        "sim.run(200000, move_gradient = None)\n",
        "print(sim)\n",
        "\n",
        "start, max_samples, jump = find_max_independent_samples(sim.energies[1000:], skip = 500)\n",
        "\n",
        "new_start = start +  1000\n",
        "ave_energies = np.mean(sim.energies[new_start::jump])\n",
        "std_energies = np.std(sim.energies[new_start::jump])\n",
        "\n",
        "print(f'\\nStart: {new_start}, Max Samples: {max_samples}, Jump: {jump}')\n",
        "print(f'L {L:.3g}, N {N}, rho {sim.volume.rho:.3g}, T {sim.volume.T}, ave_E {ave_energies:.2f} +/- {std_energies:.3f}')\n"
      ],
      "metadata": {
        "id": "dt5XMMIb4IJD",
        "outputId": "b0372af6-fc52-4f58-c6f0-8fee1be5a57d",
        "colab": {
          "base_uri": "https://localhost:8080/"
        }
      },
      "execution_count": 77,
      "outputs": [
        {
          "output_type": "stream",
          "name": "stdout",
          "text": [
            "rho: 0.5, T: 0.5, A: 102425, R 97575, steps: 200000, time: 277, E: -212\n",
            "\n",
            "Start: 19500, Max Samples: 25, Jump: 7960\n",
            "L 4.64, N 50, rho 0.5, T 0.5, ave_E -4.08 +/- 0.119\n"
          ]
        }
      ]
    },
    {
      "cell_type": "code",
      "source": [
        "sim_cl = sim\n",
        "plt.plot(range(new_start,len(sim_cl.energies)),sim_cl.energies[new_start:])\n",
        "plt.show()"
      ],
      "metadata": {
        "id": "4hTSA04m6qjB",
        "outputId": "de234517-8289-48f4-ec84-5bea5739d6a5",
        "colab": {
          "base_uri": "https://localhost:8080/",
          "height": 434
        }
      },
      "execution_count": 79,
      "outputs": [
        {
          "output_type": "display_data",
          "data": {
            "text/plain": [
              "<Figure size 640x480 with 1 Axes>"
            ],
            "image/png": "[encoded data removed]"
          },
          "metadata": {}
        }
      ]
    },
    {
      "cell_type": "markdown",
      "source": [
        "## Take-aways\n",
        "In this project, after redoing it I feel like it is more important to get good results, before trying to move on and get more results. I feel like now, understanding how to statistically take indepent averages I could get a much better grasp on the heat capacity of the system.\n",
        "\n",
        "Also, it is always a good idea to verify the simplest possible system, and know what to expect for said system.\n",
        "\n",
        "For cold (T=0.5), non dense systems (ρ=0.5) for some reason I had to do nearly 200,000 steps to get 25 independent samples, this could just be the seed I was using, but that seems unlikely. My answer also differeed from yours at this range. (though Ii trust mine a bit more, as at T=1 and N/V=0.5 we were both getting -3.2, it seems like the per particle energy should drop with lower temp, mine did (on the shared drive), yours did not).\n",
        "\n",
        "50 particles took about 1.4s/1000 steps give or take. This is alright for this project, but I wonder how much faster I could make it."
      ],
      "metadata": {
        "id": "Nk42u-EB171q"
      }
    },
    {
      "cell_type": "markdown",
      "source": [
        "## 1 Project\n",
        "1. Pick a physical system you’re curious about (e.g., Argon, Methane, Lennard-Jonesium, ethane, etc).\n",
        "  * I am doing argon as a LJ systme, ϵ/kb=120 K, σ=0.34nm, and m=40d\n",
        "1. Determine a representation of it that balances ease of implementation with probing its thermodynamics.\n",
        "  * Reduced units, LJ potential, PBC, I am not doing any tail corrections, I am considering every particle interaction, (no truncation).\n",
        "  * I added Verlet boxes, this works well for larger system sizes, but for the 50 particles I was considering it didn't help at all, it actually hurt. I put in a check to make sure the cutoff was large enough, so it didn't start double counting particles.\n",
        "1. Characterize your model’s performance:\n",
        "  1. How long does it take to equilibrate at extremes of state (high densities, low temperatures)?\n",
        "    * With high densities, low temp it takes (around the supposed freezing point, and density) 50 particles about 5000 steps to equilibrate, however, I didn't not see a pressure drop arround that point.\n",
        "  2. How small is too small? How big is too big?\n",
        "    * For Google Colab, I predict can do about 1000 particles for 5000 steps in 5 minutes, as it seems to be scaling roughly linearly. It with particles, it seems like it should scale faster than this though.\n",
        "1. Contrast your system with an ideal gas:\n",
        "  1. How does the structure of your model vary with state, and how does it compare to particles with no interactions?\n",
        "    * My model seems to almost perfectly follow the ideal gas law, at least at changing only volume, only temperature, or only number.\n",
        "  1. Does the heat capacity of your system depend on state differently than an ideal gas?\n",
        "    * Currently yes, but it shouldn't, I can't figure out why. At least it shouldn't arround the freezing and melting points.\n",
        "    * Running the systems for longer seems to get it closer to an ideal gas, I am wondering if I wasn't letting it equilibrate.\n",
        "  1. Can you derive or numerically determine an equation of state?\n",
        "    * Yes, I could, see below, it is nearly indistinguishable from an ideal gas.\n",
        "1. Summarize where your model works well to give insight, where it breaks down, and any revelations that occurred while working towards 1-4.\n",
        "  * My model works well when simulating an ideal gas, it doesn't predict freezing or melting points, at least not at the system sizes I tried.\n",
        "  * I am still uncertain why my heat capcity is so off, I tried for hours to figure that out. I think my equations right, but I'll need some help.\n",
        "  * It equilibrates to pressure surprisingly quickly, way faster than it equilibrates to energy. Why is that?\n",
        "  * If I had more time I would look more closely at the melting and freezing points to see if I could actually get a prediction for those.\n"
      ],
      "metadata": {
        "id": "gGuXDgnUAdIg"
      }
    },
    {
      "cell_type": "code",
      "source": [],
      "metadata": {
        "id": "jBFTXuwK2B3K"
      },
      "execution_count": null,
      "outputs": []
    }
  ]
}