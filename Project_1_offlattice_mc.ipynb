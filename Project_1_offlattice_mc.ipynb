{
  "nbformat": 4,
  "nbformat_minor": 0,
  "metadata": {
    "colab": {
      "provenance": [],
      "include_colab_link": true
    },
    "kernelspec": {
      "name": "python3",
      "display_name": "Python 3"
    },
    "language_info": {
      "name": "python"
    }
  },
  "cells": [
    {
      "cell_type": "markdown",
      "metadata": {
        "id": "view-in-github",
        "colab_type": "text"
      },
      "source": [
        "<a href=\"https://colab.research.google.com/github/shawk17/563-shawk17/blob/main/Project_1_offlattice_mc.ipynb\" target=\"_parent\"><img src=\"https://colab.research.google.com/assets/colab-badge.svg\" alt=\"Open In Colab\"/></a>"
      ]
    },
    {
      "cell_type": "markdown",
      "source": [
        "# Project 1 Code\n",
        "\n",
        "$$V_{LJ} = 4ϵ[(\\frac{σ}{r})^{12} - (\\frac{σ}{r})^6]$$"
      ],
      "metadata": {
        "id": "G5yC3tUluk7D"
      }
    },
    {
      "cell_type": "code",
      "source": [
        "#HW4\n",
        "import numpy as np\n",
        "import matplotlib.pyplot as plt\n",
        "import time\n",
        "from itertools import combinations, product\n",
        "import copy\n",
        "import math\n",
        "\n",
        "NA = 6.022E23 # Avogadro's number\n",
        "R = 8.314472 # J/K/mol\n",
        "\n",
        "class Particle():\n",
        "  def __init__(self,L, dim=3, id = 1):\n",
        "    loc = np.random.rand(dim)*L\n",
        "    self.location = np.array(loc)\n",
        "    self.id = id\n",
        "\n",
        "  def __repr__(self):\n",
        "    return f'{self.id}'"
      ],
      "metadata": {
        "id": "LZtvkntQwvMr"
      },
      "execution_count": 2,
      "outputs": []
    },
    {
      "cell_type": "code",
      "source": [
        "class Volume():\n",
        "  def __init__(self,N=5,L=4,T=1.0, epsilon=1, sigma = 1, m = 40,dim=3, rcut=2.5):\n",
        "    self.rcut = rcut*sigma\n",
        "    self.L = L\n",
        "    self.N = N\n",
        "    self.epsilon = epsilon\n",
        "    self.T = T\n",
        "    self.sigma = sigma\n",
        "    self.m = m\n",
        "    self.dim = dim\n",
        "\n",
        "    self.particles = []\n",
        "    for i in range(self.N):\n",
        "      p = Particle(L, dim=dim, id = i)\n",
        "      self.particles.append(p)\n",
        "\n",
        "\n",
        "    self.particle_pairs = list(combinations(self.particles, 2))\n",
        "    self.E = self.energy()\n",
        "    self.m = m\n",
        "    self.V = self.L**3\n",
        "\n",
        "  def energy(self):\n",
        "    energy = 0\n",
        "    for pair in self.particle_pairs:\n",
        "      energy += self.LJ(pair[0].location, pair[1].location)\n",
        "    return energy\n",
        "\n",
        "  def particle_energy(self, p):\n",
        "    energy = 0\n",
        "    for particle in self.particles:\n",
        "      if not p == particle:\n",
        "        energy += self.LJ(particle.location, p.location)\n",
        "    return energy\n",
        "\n",
        "  def position_energy(self, pos, p=None):\n",
        "    energy = 0\n",
        "    for particle in self.particles:\n",
        "      if not p == particle:\n",
        "        energy += self.LJ(particle.location, pos)\n",
        "    return energy\n",
        "\n",
        "  def LJ(self, site1, site2):\n",
        "    delta = site1 - site2\n",
        "    delta -= self.L * np.round(delta / self.L)  # Minimum image convention\n",
        "    r = np.linalg.norm(delta)\n",
        "    if r > self.rcut:\n",
        "      return 0\n",
        "\n",
        "    r /= self.sigma\n",
        "\n",
        "    if r == 0:  # Avoid division by zero\n",
        "        return 0\n",
        "    # Compute potential energy\n",
        "    U = 4 * self.epsilon * (1/r**12 - 1/r**6)\n",
        "\n",
        "    return U"
      ],
      "metadata": {
        "id": "JamNZa6E6g0o"
      },
      "execution_count": 5,
      "outputs": []
    },
    {
      "cell_type": "code",
      "source": [
        "# Simulation class\n",
        "class Simulation():\n",
        "  def __init__(self,move=0.1,N=5,L=3,T=1.,seed=2, verbose = True, **kwargs):\n",
        "    np.random.seed(seed)\n",
        "    self.volume = Volume(N,L,T, **kwargs)\n",
        "    self.volume.E = self.volume.E\n",
        "    self.move = move\n",
        "    self.accepted = 0\n",
        "    self.rejected = 0\n",
        "    self.steps = 0\n",
        "    self.pressures = []\n",
        "    self.energies = []\n",
        "    self.verbose = verbose\n",
        "\n",
        "  def __repr__(self):\n",
        "    return f'Vol: {self.volume.V:.3g}, accept: {self.accepted}, reject {self.rejected}, steps: {self.steps}'\n",
        "\n",
        "  def trial_move(self):\n",
        "    p = np.random.choice(self.volume.particles)\n",
        "    dr = np.random.uniform(-self.move, self.move, len(p.location))\n",
        "    new_pos = (p.location + dr) % self.volume.L # Apply periodic boundaries\n",
        "\n",
        "    poldE = self.volume.particle_energy(p)\n",
        "    pnewE = self.volume.position_energy(new_pos, p=p)\n",
        "    dE = pnewE - poldE\n",
        "\n",
        "    self.steps += 1\n",
        "    if dE < 0 or np.random.rand() < np.exp(-dE/self.volume.T):\n",
        "      p.location = new_pos\n",
        "      self.volume.E += dE\n",
        "      self.accepted += 1\n",
        "      return\n",
        "    else:\n",
        "      self.rejected += 1\n",
        "      return\n",
        "\n",
        "  def run(self, steps, move_gradient = None, max_time = 300, keep_loc = False):\n",
        "    gradient=False\n",
        "    self.particle_locs = []\n",
        "\n",
        "    if not move_gradient is None:\n",
        "      gradient = True\n",
        "      move_gradient = np.linspace(move_gradient[0], move_gradient[1], steps)\n",
        "\n",
        "    t1 = time.perf_counter()\n",
        "    if self.verbose:\n",
        "      print(f'The number of particles is {self.volume.N}')\n",
        "      print(f'Starting per particle energy {self.volume.E/self.volume.N:.4g}')\n",
        "\n",
        "    for i in range(steps):\n",
        "      self.trial_move()\n",
        "      self.energies.append(self.volume.E/self.volume.N)\n",
        "      if gradient:\n",
        "        self.move = move_gradient[i]\n",
        "      if time.perf_counter() - t1 > max_time:\n",
        "        print(f'Reached max time of {max_time} seconds')\n",
        "        break\n",
        "      if keep_loc:\n",
        "        self.particle_locs.append(copy.deepcopy(self.volume.particles))\n",
        "    t2 = time.perf_counter()\n",
        "    if self.verbose:\n",
        "      print(f'Ran {steps} in {t2-t1:.5g} seconds')\n",
        "      print(f'Acceptance: {self.accepted/steps};    Rejection: {self.rejected/steps}')\n",
        "      print(f'Ending per particle energy {self.volume.E/self.volume.N:.4g}')\n",
        "    return t2 - t1"
      ],
      "metadata": {
        "id": "1-GJ03ClwbhH"
      },
      "execution_count": 3,
      "outputs": []
    },
    {
      "cell_type": "code",
      "source": [
        "# N/V = 0.5\n",
        "kb = 1.380649E-23 # J/K\n",
        "simulations = []\n",
        "durations = []\n",
        "Cvs = []\n",
        "\n",
        "step = 5000\n",
        "T = 1\n",
        "N = 50\n",
        "rho = 0.5\n",
        "L = (N / rho)**(1/3)\n",
        "print(L)\n",
        "pressure_steps = 1000\n",
        "\n",
        "sim = Simulation(move=0.1, N=N, L=L, T=T, epsilon=1,\n",
        "                  sigma=1, m=1, dim=3, verbose=True, seed = 2)\n",
        "sim.run(step, move_gradient = None)\n"
      ],
      "metadata": {
        "id": "4R0iRKM2xIdn",
        "outputId": "f270d386-e98b-4a88-f677-05838e5a9e33",
        "colab": {
          "base_uri": "https://localhost:8080/"
        }
      },
      "execution_count": 9,
      "outputs": [
        {
          "output_type": "stream",
          "name": "stdout",
          "text": [
            "4.641588833612778\n",
            "The number of particles is 50\n",
            "Starting per particle energy 6.378e+11\n",
            "Ran 5000 in 6.9873 seconds\n",
            "Acceptance: 0.6524;    Rejection: 0.3476\n",
            "Ending per particle energy -3.198\n"
          ]
        },
        {
          "output_type": "execute_result",
          "data": {
            "text/plain": [
              "6.987342596000019"
            ]
          },
          "metadata": {},
          "execution_count": 9
        }
      ]
    },
    {
      "cell_type": "code",
      "source": [
        "plot_amount = 1000\n",
        "plt.plot(sim.energies[plot_amount:])\n",
        "plt.show()"
      ],
      "metadata": {
        "id": "ifE6H9e5yeMq",
        "outputId": "cb81b4e9-3864-4ee2-8f9a-99a635ec25d2",
        "colab": {
          "base_uri": "https://localhost:8080/",
          "height": 430
        }
      },
      "execution_count": 10,
      "outputs": [
        {
          "output_type": "display_data",
          "data": {
            "text/plain": [
              "<Figure size 640x480 with 1 Axes>"
            ],
            "image/png": "[encoded data removed]"
          },
          "metadata": {}
        }
      ]
    },
    {
      "cell_type": "markdown",
      "source": [
        "1. Pick a physical system you’re curious about (e.g., Argon, Methane, Lennard-Jonesium, ethane, etc).\n",
        "  * I am doing argon as a LJ systme, ϵ/kb=120 K, σ=0.34nm, and m=40d\n",
        "1. Determine a representation of it that balances ease of implementation with probing its thermodynamics.\n",
        "  * Reduced units, LJ potential, PBC, I am not doing any tail corrections, I am considering every particle interaction, (no truncation).\n",
        "  * I added Verlet boxes, this works well for larger system sizes, but for the 50 particles I was considering it didn't help at all, it actually hurt. I put in a check to make sure the cutoff was large enough, so it didn't start double counting particles.\n",
        "1. Characterize your model’s performance:\n",
        "  1. How long does it take to equilibrate at extremes of state (high densities, low temperatures)?\n",
        "    * With high densities, low temp it takes (around the supposed freezing point, and density) 50 particles about 5000 steps to equilibrate, however, I didn't not see a pressure drop arround that point.\n",
        "  2. How small is too small? How big is too big?\n",
        "    * For Google Colab, I predict can do about 1000 particles for 5000 steps in 5 minutes, as it seems to be scaling roughly linearly. It with particles, it seems like it should scale faster than this though.\n",
        "1. Contrast your system with an ideal gas:\n",
        "  1. How does the structure of your model vary with state, and how does it compare to particles with no interactions?\n",
        "    * My model seems to almost perfectly follow the ideal gas law, at least at changing only volume, only temperature, or only number.\n",
        "  1. Does the heat capacity of your system depend on state differently than an ideal gas?\n",
        "    * Currently yes, but it shouldn't, I can't figure out why. At least it shouldn't arround the freezing and melting points.\n",
        "    * Running the systems for longer seems to get it closer to an ideal gas, I am wondering if I wasn't letting it equilibrate.\n",
        "  1. Can you derive or numerically determine an equation of state?\n",
        "    * Yes, I could, see below, it is nearly indistinguishable from an ideal gas.\n",
        "1. Summarize where your model works well to give insight, where it breaks down, and any revelations that occurred while working towards 1-4.\n",
        "  * My model works well when simulating an ideal gas, it doesn't predict freezing or melting points, at least not at the system sizes I tried.\n",
        "  * I am still uncertain why my heat capcity is so off, I tried for hours to figure that out. I think my equations right, but I'll need some help.\n",
        "  * It equilibrates to pressure surprisingly quickly, way faster than it equilibrates to energy. Why is that?\n",
        "  * If I had more time I would look more closely at the melting and freezing points to see if I could actually get a prediction for those.\n"
      ],
      "metadata": {
        "id": "gGuXDgnUAdIg"
      }
    },
    {
      "cell_type": "code",
      "source": [],
      "metadata": {
        "id": "jBFTXuwK2B3K"
      },
      "execution_count": null,
      "outputs": []
    }
  ]
}