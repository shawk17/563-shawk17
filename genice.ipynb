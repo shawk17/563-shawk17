{
  "cells": [
    {
      "cell_type": "markdown",
      "metadata": {
        "id": "view-in-github",
        "colab_type": "text"
      },
      "source": [
        "<a href=\"https://colab.research.google.com/github/shawk17/563-shawk17/blob/main/genice.ipynb\" target=\"_parent\"><img src=\"https://colab.research.google.com/assets/colab-badge.svg\" alt=\"Open In Colab\"/></a>"
      ]
    },
    {
      "cell_type": "markdown",
      "metadata": {
        "id": "HNwYAWaR_QFK"
      },
      "source": [
        "# Installation\n",
        "\n",
        "On Google Colaboratory, you must install GenIce2 and extra plugins by yourself.\n"
      ]
    },
    {
      "cell_type": "code",
      "execution_count": 1,
      "metadata": {
        "id": "gFymXYXdA1_a",
        "outputId": "dce3f3a2-30fd-430c-8f0c-b5dfa8fae2af",
        "colab": {
          "base_uri": "https://localhost:8080/"
        }
      },
      "outputs": [
        {
          "output_type": "stream",
          "name": "stdout",
          "text": [
            "Collecting genice2\n",
            "  Downloading genice2-2.2.9-py3-none-any.whl.metadata (57 kB)\n",
            "\u001b[?25l     \u001b[90m━━━━━━━━━━━━━━━━━━━━━━━━━━━━━━━━━━━━━━━━\u001b[0m \u001b[32m0.0/57.9 kB\u001b[0m \u001b[31m?\u001b[0m eta \u001b[36m-:--:--\u001b[0m\r\u001b[2K     \u001b[90m━━━━━━━━━━━━━━━━━━━━━━━━━━━━━━━━━━━━━━━━\u001b[0m \u001b[32m57.9/57.9 kB\u001b[0m \u001b[31m2.3 MB/s\u001b[0m eta \u001b[36m0:00:00\u001b[0m\n",
            "\u001b[?25hCollecting genice2-svg\n",
            "  Downloading genice2_svg-2.4.1-py3-none-any.whl.metadata (304 kB)\n",
            "\u001b[?25l     \u001b[90m━━━━━━━━━━━━━━━━━━━━━━━━━━━━━━━━━━━━━━━━\u001b[0m \u001b[32m0.0/304.7 kB\u001b[0m \u001b[31m?\u001b[0m eta \u001b[36m-:--:--\u001b[0m\r\u001b[2K     \u001b[91m━━━━━━━━━━━━━━━━━━━━━━━━━━━━━━━━━━━━━\u001b[0m\u001b[90m╺\u001b[0m \u001b[32m297.0/304.7 kB\u001b[0m \u001b[31m14.7 MB/s\u001b[0m eta \u001b[36m0:00:01\u001b[0m\r\u001b[2K     \u001b[90m━━━━━━━━━━━━━━━━━━━━━━━━━━━━━━━━━━━━━━━\u001b[0m \u001b[32m304.7/304.7 kB\u001b[0m \u001b[31m8.2 MB/s\u001b[0m eta \u001b[36m0:00:00\u001b[0m\n",
            "\u001b[?25hCollecting genice2-cage\n",
            "  Downloading genice2_cage-2.5.2-py3-none-any.whl.metadata (3.3 kB)\n",
            "Collecting cycless>=0.4.2 (from genice2)\n",
            "  Downloading cycless-0.6.3-py3-none-any.whl.metadata (2.8 kB)\n",
            "Collecting genice-core>=1.0.1 (from genice2)\n",
            "  Downloading genice_core-1.0.1-py3-none-any.whl.metadata (502 bytes)\n",
            "Collecting graphstat>=0.3.3 (from genice2)\n",
            "  Downloading graphstat-0.3.3-py3-none-any.whl.metadata (552 bytes)\n",
            "Requirement already satisfied: networkx>=2.0.dev20160901144005 in /usr/local/lib/python3.11/dist-packages (from genice2) (3.4.2)\n",
            "Requirement already satisfied: numpy<3.0,>=2.0 in /usr/local/lib/python3.11/dist-packages (from genice2) (2.0.2)\n",
            "Collecting openpyscad>=0.5.0 (from genice2)\n",
            "  Downloading openpyscad-0.5.0-py3-none-any.whl.metadata (4.6 kB)\n",
            "Collecting pairlist>=0.6 (from genice2)\n",
            "  Downloading pairlist-0.6.tar.gz (10 kB)\n",
            "  Installing build dependencies ... \u001b[?25l\u001b[?25hdone\n",
            "  Getting requirements to build wheel ... \u001b[?25l\u001b[?25hdone\n",
            "  Preparing metadata (pyproject.toml) ... \u001b[?25l\u001b[?25hdone\n",
            "Collecting yaplotlib>=0.1.2 (from genice2)\n",
            "  Downloading yaplotlib-0.1.3-py3-none-any.whl.metadata (435 bytes)\n",
            "INFO: pip is looking at multiple versions of genice2-svg to determine which version is compatible with other requirements. This could take a while.\n",
            "Collecting genice2-svg\n",
            "  Downloading genice2_svg-2.2-py2.py3-none-any.whl.metadata (24 kB)\n",
            "Collecting svgwrite (from genice2-svg)\n",
            "  Downloading svgwrite-1.4.3-py3-none-any.whl.metadata (8.8 kB)\n",
            "Requirement already satisfied: pillow in /usr/local/lib/python3.11/dist-packages (from genice2-svg) (11.2.1)\n",
            "Requirement already satisfied: click>=8 in /usr/local/lib/python3.11/dist-packages (from cycless>=0.4.2->genice2) (8.1.8)\n",
            "Collecting methodtools<0.5.0,>=0.4.7 (from cycless>=0.4.2->genice2)\n",
            "  Downloading methodtools-0.4.7-py2.py3-none-any.whl.metadata (3.0 kB)\n",
            "Requirement already satisfied: six<2.0.0,>=1.14.0 in /usr/local/lib/python3.11/dist-packages (from openpyscad>=0.5.0->genice2) (1.17.0)\n",
            "Collecting wirerope>=0.4.7 (from methodtools<0.5.0,>=0.4.7->cycless>=0.4.2->genice2)\n",
            "  Downloading wirerope-1.0.0-py2.py3-none-any.whl.metadata (3.3 kB)\n",
            "Downloading genice2-2.2.9-py3-none-any.whl (872 kB)\n",
            "\u001b[2K   \u001b[90m━━━━━━━━━━━━━━━━━━━━━━━━━━━━━━━━━━━━━━━━\u001b[0m \u001b[32m872.2/872.2 kB\u001b[0m \u001b[31m26.8 MB/s\u001b[0m eta \u001b[36m0:00:00\u001b[0m\n",
            "\u001b[?25hDownloading genice2_svg-2.2-py2.py3-none-any.whl (28 kB)\n",
            "Downloading genice2_cage-2.5.2-py3-none-any.whl (8.4 kB)\n",
            "Downloading cycless-0.6.3-py3-none-any.whl (15 kB)\n",
            "Downloading genice_core-1.0.1-py3-none-any.whl (9.3 kB)\n",
            "Downloading graphstat-0.3.3-py3-none-any.whl (3.7 kB)\n",
            "Downloading openpyscad-0.5.0-py3-none-any.whl (9.7 kB)\n",
            "Downloading yaplotlib-0.1.3-py3-none-any.whl (2.2 kB)\n",
            "Downloading svgwrite-1.4.3-py3-none-any.whl (67 kB)\n",
            "\u001b[2K   \u001b[90m━━━━━━━━━━━━━━━━━━━━━━━━━━━━━━━━━━━━━━━━\u001b[0m \u001b[32m67.1/67.1 kB\u001b[0m \u001b[31m4.2 MB/s\u001b[0m eta \u001b[36m0:00:00\u001b[0m\n",
            "\u001b[?25hDownloading methodtools-0.4.7-py2.py3-none-any.whl (4.0 kB)\n",
            "Downloading wirerope-1.0.0-py2.py3-none-any.whl (9.2 kB)\n",
            "Building wheels for collected packages: pairlist\n",
            "  Building wheel for pairlist (pyproject.toml) ... \u001b[?25l\u001b[?25hdone\n",
            "  Created wheel for pairlist: filename=pairlist-0.6-cp311-cp311-manylinux_2_35_x86_64.whl size=31998 sha256=2b8c935fc21977c130e3dcddb5920904166df57c3b44bed0aeb4f7c5098f49f2\n",
            "  Stored in directory: /root/.cache/pip/wheels/fe/f4/f6/bfb46169a454fde12dd069ce2a20c7bfdc04ad9a14a5eb38b2\n",
            "Successfully built pairlist\n",
            "Installing collected packages: yaplotlib, wirerope, svgwrite, pairlist, openpyscad, graphstat, genice-core, methodtools, cycless, genice2, genice2-svg, genice2-cage\n",
            "Successfully installed cycless-0.6.3 genice-core-1.0.1 genice2-2.2.9 genice2-cage-2.5.2 genice2-svg-2.2 graphstat-0.3.3 methodtools-0.4.7 openpyscad-0.5.0 pairlist-0.6 svgwrite-1.4.3 wirerope-1.0.0 yaplotlib-0.1.3\n"
          ]
        }
      ],
      "source": [
        "# install GenIce2 and extra plugins from PyPI via pip.\n",
        "%pip install genice2 genice2-svg genice2-cage\n"
      ]
    },
    {
      "cell_type": "markdown",
      "metadata": {
        "id": "-pFXcvVJ_QFQ"
      },
      "source": [
        "## Output in Gromacs format.\n",
        "\n",
        "A simplest example."
      ]
    },
    {
      "cell_type": "code",
      "execution_count": null,
      "metadata": {
        "id": "P85n-TcL_QFR"
      },
      "outputs": [],
      "source": [
        "from genice2.genice import GenIce\n",
        "from genice2.plugin import Lattice, Format, Molecule\n",
        "\n",
        "lattice = Lattice(\"ice11\")\n",
        "formatter = Format(\"gromacs\")\n",
        "water = Molecule(\"spce\")\n",
        "ice = GenIce(lattice).generate_ice(formatter, water=water)\n",
        "print(ice)"
      ]
    },
    {
      "cell_type": "markdown",
      "metadata": {
        "id": "mI8MvQyc_QFV"
      },
      "source": [
        "## Generate an SVG image\n",
        "\n",
        "Here we are using the Forms syntax of Google Colab to choose the ice type."
      ]
    },
    {
      "cell_type": "code",
      "execution_count": null,
      "metadata": {
        "id": "JujsH423_QFY"
      },
      "outputs": [],
      "source": [
        "from genice2.genice import GenIce\n",
        "from genice2.plugin import Lattice, Format, Molecule\n",
        "\n",
        "ice = \"DDR\"  # @param [\"ice1h\", \"ice2\", \"ice3\", \"DDR\"] {allow-input: true}\n",
        "\n",
        "lattice = Lattice(ice)\n",
        "formatter = Format(\"svg\", shadow=True, rotate=\"y5,x5\")\n",
        "# formatter  = Format(\"twist\", svg=True,rotatex=5,rotatey=5)\n",
        "img = GenIce(lattice, reshape=[[2, 0, 0], [0, 2, 0], [0, 0, 2]]).generate_ice(formatter)\n",
        "\n",
        "from IPython.display import SVG, display\n",
        "\n",
        "display(SVG(img))"
      ]
    },
    {
      "cell_type": "markdown",
      "metadata": {
        "id": "t0Z0QSOK_QFb"
      },
      "source": [
        "## Generate a PNG image\n",
        "\n",
        "PNG renderer is also included in genice_svg package."
      ]
    },
    {
      "cell_type": "code",
      "execution_count": null,
      "metadata": {
        "id": "l0sg81tt_QFc"
      },
      "outputs": [],
      "source": [
        "from genice2.genice import GenIce\n",
        "from genice2.plugin import Lattice, Format, Molecule\n",
        "\n",
        "lattice = Lattice(\"CS2\")\n",
        "formatter = Format(\"png\", shadow=\"#8881\", encode=False, bg=\"#fff\", rotate=\"x5,y5\")\n",
        "img = GenIce(lattice, reshape=[[2, 0, 0], [0, 2, 0], [0, 0, 2]]).generate_ice(formatter)\n",
        "\n",
        "from IPython.display import display\n",
        "\n",
        "display(img)"
      ]
    },
    {
      "cell_type": "markdown",
      "metadata": {
        "id": "Y3CtlAt-_QFe"
      },
      "source": [
        "## Store the image in a file\n",
        "\n",
        "Save it in a PNG file."
      ]
    },
    {
      "cell_type": "code",
      "execution_count": null,
      "metadata": {
        "id": "uv8aW75b_QFf"
      },
      "outputs": [],
      "source": [
        "from genice2.genice import GenIce\n",
        "from genice2.plugin import Lattice, Format, Molecule\n",
        "\n",
        "lattice = Lattice(\"ice3\")\n",
        "formatter = Format(\"png\", shadow=\"#8881\", encode=True, bg=\"#fff\", rotate=\"x5,y5\")\n",
        "img = GenIce(lattice, reshape=[[2, 0, 0], [0, 2, 0], [0, 0, 2]]).generate_ice(formatter)\n",
        "\n",
        "with open(\"ice3.png\", \"wb\") as f:\n",
        "    f.write(img)"
      ]
    },
    {
      "cell_type": "markdown",
      "metadata": {
        "id": "nTt0sIHi_QFi"
      },
      "source": [
        "## Analysis\n",
        "\n",
        "Some statistical analyses are also available."
      ]
    },
    {
      "cell_type": "code",
      "execution_count": null,
      "metadata": {
        "id": "g4dWcvwv_QFj"
      },
      "outputs": [],
      "source": [
        "from genice2.genice import GenIce\n",
        "from genice2.plugin import Lattice, Format, Molecule\n",
        "import numpy as np\n",
        "from matplotlib import pyplot as plt\n",
        "import random\n",
        "\n",
        "lattice = Lattice(\"ice1c\")\n",
        "formatter = Format(\"_KG\")\n",
        "water = Molecule(\"spce\")\n",
        "for seed in range(1000, 1010):\n",
        "    random.seed(seed)\n",
        "    np.random.seed(seed)\n",
        "    result = GenIce(lattice, reshape=[[10, 0, 0], [0, 10, 0], [0, 0, 10]]).generate_ice(\n",
        "        formatter, water=water\n",
        "    )\n",
        "\n",
        "    kg = np.fromstring(result, dtype=float, sep=\" \")\n",
        "    N = kg.shape[0]\n",
        "    kg = kg.reshape([N // 2, 2])\n",
        "    plt.plot(kg[:, 0], kg[:, 1])\n",
        "\n",
        "plt.xlabel(\"r / nm\")\n",
        "plt.ylabel(\"Kirkwood G\")\n",
        "plt.show()"
      ]
    },
    {
      "cell_type": "markdown",
      "metadata": {
        "id": "9-KbKZUg_QFm"
      },
      "source": [
        "## Logging\n",
        "\n",
        "You may want to see the process log."
      ]
    },
    {
      "cell_type": "code",
      "execution_count": null,
      "metadata": {
        "id": "YDzW7USV_QFm"
      },
      "outputs": [],
      "source": [
        "from logging import getLogger, INFO, DEBUG, WARNING\n",
        "\n",
        "logger = getLogger()\n",
        "logger.setLevel(INFO)\n",
        "\n",
        "from genice2.genice import GenIce\n",
        "from genice2.plugin import Lattice, Format, Molecule\n",
        "\n",
        "lattice = Lattice(\"ice1c\")\n",
        "formatter = Format(\"gromacs\")\n",
        "water = Molecule(\"spce\")\n",
        "ice = GenIce(\n",
        "    lattice, reshape=[[16, 0, 0], [0, 16, 0], [0, 0, 16]], signature=\"Jupyter test\"\n",
        ").generate_ice(formatter, water=water)\n",
        "with open(\"ice1c.gro\", \"w\") as f:\n",
        "    f.write(ice)\n",
        "\n",
        "logger.setLevel(WARNING)"
      ]
    },
    {
      "cell_type": "markdown",
      "metadata": {
        "id": "GWN1tTvXDu_-"
      },
      "source": [
        "## Raw data\n",
        "\n",
        "You can access the \"raw\" (internal) data."
      ]
    },
    {
      "cell_type": "code",
      "execution_count": null,
      "metadata": {
        "id": "mpM25WEgDu_-"
      },
      "outputs": [],
      "source": [
        "from genice2.genice import GenIce\n",
        "from genice2.plugin import Lattice, Format, Molecule\n",
        "\n",
        "lattice = Lattice(\"xFAU\", rep=3)\n",
        "formatter = Format(\"raw\", stage=(1,))\n",
        "raw = GenIce(lattice, signature=\"Aeroice 3xFAU\").generate_ice(formatter)\n",
        "\n",
        "raw"
      ]
    },
    {
      "cell_type": "markdown",
      "metadata": {
        "id": "EcA4cvEnDvAB"
      },
      "source": [
        "### Visualization by Plotly\n",
        "\n",
        "Use the raw data to plot by yourself."
      ]
    },
    {
      "cell_type": "code",
      "execution_count": null,
      "metadata": {
        "id": "Red3f1LdDvAB"
      },
      "outputs": [],
      "source": [
        "waters = raw[\"reppositions\"]\n",
        "import plotly.graph_objects as go\n",
        "\n",
        "fig = go.Figure(\n",
        "    data=[\n",
        "        go.Scatter3d(\n",
        "            x=waters[:, 0],\n",
        "            y=waters[:, 1],\n",
        "            z=waters[:, 2],\n",
        "            marker=dict(size=10),\n",
        "            mode=\"markers\",\n",
        "        )\n",
        "    ]\n",
        ")\n",
        "fig.show()"
      ]
    },
    {
      "cell_type": "markdown",
      "metadata": {
        "id": "L2P6aWpku91I"
      },
      "source": [
        "## Integration with py3Dmol.\n",
        "\n",
        "Py3Dmol works on Google Colaboratory."
      ]
    },
    {
      "cell_type": "code",
      "execution_count": null,
      "metadata": {
        "id": "_3GLhHNttlZP"
      },
      "outputs": [],
      "source": [
        "%pip install py3Dmol"
      ]
    },
    {
      "cell_type": "code",
      "execution_count": null,
      "metadata": {
        "id": "bdtB9dUStqAw"
      },
      "outputs": [],
      "source": [
        "from genice2.genice import GenIce\n",
        "from genice2.plugin import Lattice, Format, Molecule\n",
        "\n",
        "lattice = Lattice(\"ice1h_unit\")\n",
        "formatter = Format(\"gromacs\")\n",
        "water = Molecule(\"spce\")\n",
        "ice = GenIce(lattice, reshape=[[4, 0, 0], [0, 4, 0], [0, 0, 4]]).generate_ice(\n",
        "    formatter, water=water\n",
        ")"
      ]
    },
    {
      "cell_type": "code",
      "execution_count": null,
      "metadata": {
        "id": "BxolfqLTt2oO"
      },
      "outputs": [],
      "source": [
        "import py3Dmol\n",
        "\n",
        "view = py3Dmol.view()\n",
        "view.addModel(ice, \"gro\")\n",
        "view.setStyle({\"stick\": {}})\n",
        "view.addUnitCell()\n",
        "view.zoomTo()"
      ]
    },
    {
      "cell_type": "markdown",
      "metadata": {
        "id": "g764Gyfco0jo"
      },
      "source": [
        "## Various file formats using MDAnalysis"
      ]
    },
    {
      "cell_type": "code",
      "execution_count": null,
      "metadata": {
        "id": "PDRm3tgBrO6E"
      },
      "outputs": [],
      "source": [
        "%pip install genice2-mdanalysis\n",
        "exit(0)\n"
      ]
    },
    {
      "cell_type": "code",
      "execution_count": null,
      "metadata": {
        "id": "_hAM4JLxpDTy"
      },
      "outputs": [],
      "source": [
        "from genice2.genice import GenIce\n",
        "from genice2.plugin import Lattice, Format, Molecule\n",
        "\n",
        "lattice = Lattice(\"ice1h_unit\")\n",
        "formatter = Format(\"mdanalysis\")\n",
        "water = Molecule(\"spce\")\n",
        "\n",
        "# MDAnalysis universe\n",
        "universe = GenIce(lattice, reshape=[[4, 0, 0], [0, 4, 0], [0, 0, 4]]).generate_ice(\n",
        "    formatter, water=water\n",
        ")\n",
        "\n",
        "# Save as a .gro file.\n",
        "allatoms = universe.select_atoms(\"all\")\n",
        "allatoms.write(\"1h_unit.pdb\")"
      ]
    },
    {
      "cell_type": "code",
      "execution_count": null,
      "metadata": {
        "id": "TBYNWLEvpcTH"
      },
      "outputs": [],
      "source": []
    }
  ],
  "metadata": {
    "colab": {
      "name": "test.ipynb",
      "provenance": [],
      "include_colab_link": true
    },
    "kernelspec": {
      "display_name": "Python 3",
      "language": "python",
      "name": "python3"
    },
    "language_info": {
      "codemirror_mode": {
        "name": "ipython",
        "version": 3
      },
      "file_extension": ".py",
      "mimetype": "text/x-python",
      "name": "python",
      "nbconvert_exporter": "python",
      "pygments_lexer": "ipython3",
      "version": "3.11.4"
    }
  },
  "nbformat": 4,
  "nbformat_minor": 0
}