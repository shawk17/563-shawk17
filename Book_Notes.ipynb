{
  "nbformat": 4,
  "nbformat_minor": 0,
  "metadata": {
    "colab": {
      "provenance": [],
      "authorship_tag": "ABX9TyPm1lRM6Zo26UQu31/bxCqi",
      "include_colab_link": true
    },
    "kernelspec": {
      "name": "python3",
      "display_name": "Python 3"
    },
    "language_info": {
      "name": "python"
    }
  },
  "cells": [
    {
      "cell_type": "markdown",
      "metadata": {
        "id": "view-in-github",
        "colab_type": "text"
      },
      "source": [
        "<a href=\"https://colab.research.google.com/github/shawk17/563-shawk17/blob/main/Book_Notes.ipynb\" target=\"_parent\"><img src=\"https://colab.research.google.com/assets/colab-badge.svg\" alt=\"Open In Colab\"/></a>"
      ]
    },
    {
      "cell_type": "markdown",
      "source": [
        "# Book Notes\n",
        "Most of my notes are directly in my book."
      ],
      "metadata": {
        "id": "NNRO6KASz93g"
      }
    },
    {
      "cell_type": "markdown",
      "source": [
        "# Chapter 5 Computer Experiments"
      ],
      "metadata": {
        "id": "KbB3JOtX0GFX"
      }
    },
    {
      "cell_type": "markdown",
      "source": [],
      "metadata": {
        "id": "3h0GofOdLYVo"
      }
    },
    {
      "cell_type": "markdown",
      "source": [
        "## Static Properties"
      ],
      "metadata": {
        "id": "CFlXM-5FLYpU"
      }
    },
    {
      "cell_type": "markdown",
      "source": [],
      "metadata": {
        "id": "1iLk7qGeLYy8"
      }
    },
    {
      "cell_type": "markdown",
      "source": [
        "### Temperature"
      ],
      "metadata": {
        "id": "VQOfCbQPLY2E"
      }
    },
    {
      "cell_type": "markdown",
      "source": [],
      "metadata": {
        "id": "9Du0CF0gLY46"
      }
    },
    {
      "cell_type": "markdown",
      "source": [
        "### Internal Energy"
      ],
      "metadata": {
        "id": "BVBz62jVLY73"
      }
    },
    {
      "cell_type": "markdown",
      "source": [],
      "metadata": {
        "id": "6whPsY7lLY-9"
      }
    },
    {
      "cell_type": "markdown",
      "source": [
        "### Partial Molar Quantities"
      ],
      "metadata": {
        "id": "FXlgNc_kL6Pf"
      }
    },
    {
      "cell_type": "markdown",
      "source": [],
      "metadata": {
        "id": "1SxsxyWcL-6v"
      }
    },
    {
      "cell_type": "markdown",
      "source": [
        "### Heat Capacity"
      ],
      "metadata": {
        "id": "egLalFlpLZCO"
      }
    },
    {
      "cell_type": "markdown",
      "source": [],
      "metadata": {
        "id": "rWLQvLjqLZFd"
      }
    },
    {
      "cell_type": "markdown",
      "source": [
        "### Pressure"
      ],
      "metadata": {
        "id": "GdXyBu1xLZIf"
      }
    },
    {
      "cell_type": "markdown",
      "source": [],
      "metadata": {
        "id": "BdcGidlfLZL8"
      }
    },
    {
      "cell_type": "markdown",
      "source": [
        "### Surface Tension"
      ],
      "metadata": {
        "id": "u2fA7uf-LZPU"
      }
    },
    {
      "cell_type": "markdown",
      "source": [],
      "metadata": {
        "id": "0xO9AFvxLZS4"
      }
    },
    {
      "cell_type": "markdown",
      "source": [
        "### Structural Properties"
      ],
      "metadata": {
        "id": "yEYUjyNXLZWc"
      }
    },
    {
      "cell_type": "markdown",
      "source": [],
      "metadata": {
        "id": "imqgo_rtMOPm"
      }
    },
    {
      "cell_type": "markdown",
      "source": [
        "## Dynamic Properties"
      ],
      "metadata": {
        "id": "EFMbuF6mMOZu"
      }
    },
    {
      "cell_type": "markdown",
      "source": [],
      "metadata": {
        "id": "Pic-mqoXMUJ6"
      }
    },
    {
      "cell_type": "markdown",
      "source": [
        "### Diffusion"
      ],
      "metadata": {
        "id": "UEzsofzKMUMr"
      }
    },
    {
      "cell_type": "markdown",
      "source": [],
      "metadata": {
        "id": "wZhiVySOMUPk"
      }
    },
    {
      "cell_type": "markdown",
      "source": [
        "### Order-n algorithm to measure correlations"
      ],
      "metadata": {
        "id": "ucLeruUXMUSv"
      }
    },
    {
      "cell_type": "markdown",
      "source": [],
      "metadata": {
        "id": "8YAQ1_r9MUVZ"
      }
    },
    {
      "cell_type": "markdown",
      "source": [
        "### Comments on the Green-Kubo relations"
      ],
      "metadata": {
        "id": "JyVHhyrXMUYM"
      }
    },
    {
      "cell_type": "markdown",
      "source": [],
      "metadata": {
        "id": "hC3aSUnjMUbq"
      }
    },
    {
      "cell_type": "markdown",
      "source": [
        "## Statistical errors"
      ],
      "metadata": {
        "id": "V1nPkuolMoZL"
      }
    },
    {
      "cell_type": "markdown",
      "source": [],
      "metadata": {
        "id": "UIE9TSvhMoiq"
      }
    },
    {
      "cell_type": "markdown",
      "source": [
        "### Static properties: System Size"
      ],
      "metadata": {
        "id": "2NeRgTYpMomF"
      }
    },
    {
      "cell_type": "markdown",
      "source": [],
      "metadata": {
        "id": "mOyZ1IV6Mo2W"
      }
    },
    {
      "cell_type": "markdown",
      "source": [
        "### Correlation functions"
      ],
      "metadata": {
        "id": "lYwoBWyyM1jv"
      }
    },
    {
      "cell_type": "markdown",
      "source": [],
      "metadata": {
        "id": "oZ0NWUAUM1m_"
      }
    },
    {
      "cell_type": "markdown",
      "source": [
        "### Block Averages"
      ],
      "metadata": {
        "id": "HLCRe2sJM1qX"
      }
    },
    {
      "cell_type": "code",
      "execution_count": null,
      "metadata": {
        "id": "4G7G2Fy0z3R_"
      },
      "outputs": [],
      "source": []
    }
  ]
}