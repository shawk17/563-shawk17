{
  "nbformat": 4,
  "nbformat_minor": 0,
  "metadata": {
    "colab": {
      "provenance": [],
      "authorship_tag": "ABX9TyPTDMXfAdrHYRt6vKOgcHf6",
      "include_colab_link": true
    },
    "kernelspec": {
      "name": "python3",
      "display_name": "Python 3"
    },
    "language_info": {
      "name": "python"
    }
  },
  "cells": [
    {
      "cell_type": "markdown",
      "metadata": {
        "id": "view-in-github",
        "colab_type": "text"
      },
      "source": [
        "<a href=\"https://colab.research.google.com/github/shawk17/563-shawk17/blob/main/Book_Notes.ipynb\" target=\"_parent\"><img src=\"https://colab.research.google.com/assets/colab-badge.svg\" alt=\"Open In Colab\"/></a>"
      ]
    },
    {
      "cell_type": "markdown",
      "source": [
        "# Book Notes\n",
        "Most of my notes are directly in my book."
      ],
      "metadata": {
        "id": "NNRO6KASz93g"
      }
    },
    {
      "cell_type": "markdown",
      "source": [
        "# Chapter 5 Computer Experiments"
      ],
      "metadata": {
        "id": "KbB3JOtX0GFX"
      }
    },
    {
      "cell_type": "markdown",
      "source": [
        "Computer *measurements* are not done with probes but are just calculations.\n",
        "\n",
        "Planck's constant is added post hoc in most MD and MC simulations, as these are usually clasical simulations, not quantum mechanical."
      ],
      "metadata": {
        "id": "3h0GofOdLYVo"
      }
    },
    {
      "cell_type": "markdown",
      "source": [
        "## Static Properties"
      ],
      "metadata": {
        "id": "CFlXM-5FLYpU"
      }
    },
    {
      "cell_type": "markdown",
      "source": [
        "Parameters that don't depend on time, these are the only properties MC can measure. The static properties that are fixed determine the ensemble, for example NVT, NVE, NPT, ect."
      ],
      "metadata": {
        "id": "1iLk7qGeLYy8"
      }
    },
    {
      "cell_type": "markdown",
      "source": [
        "### Temperature"
      ],
      "metadata": {
        "id": "VQOfCbQPLY2E"
      }
    },
    {
      "cell_type": "markdown",
      "source": [
        "$$k_B T = \\frac{⟨2 \\mathcal{K}⟩}{f}$$\n",
        "\n",
        "Where $f$ is the number of degrees of freedom, $f = N d - N_c$, where N is the number of independent particles and $N_c$ is the number of constraints.\n",
        "\n",
        "#### Discretization error\n",
        "The above equation is not quite right, as $v_i \\neq p_i/m_i$, exactly when you have descreet time steps, this becomes an issue at high frequencies, like internal vibrations of a protein."
      ],
      "metadata": {
        "id": "9Du0CF0gLY46"
      }
    },
    {
      "cell_type": "markdown",
      "source": [
        "### Internal Energy"
      ],
      "metadata": {
        "id": "BVBz62jVLY73"
      }
    },
    {
      "cell_type": "markdown",
      "source": [
        "E is a fairly straight forward calculation, except when interactions have temperature dependence."
      ],
      "metadata": {
        "id": "6whPsY7lLY-9"
      }
    },
    {
      "cell_type": "markdown",
      "source": [
        "### Partial Molar Quantities"
      ],
      "metadata": {
        "id": "FXlgNc_kL6Pf"
      }
    },
    {
      "cell_type": "markdown",
      "source": [
        "Calculating partial molar quantities is a bit tricky, the simple method is to calculate the property of the same system with and without the part of the mixture you are interested in, but there are better (cheaper) methods."
      ],
      "metadata": {
        "id": "1SxsxyWcL-6v"
      }
    },
    {
      "cell_type": "markdown",
      "source": [
        "### Heat Capacity"
      ],
      "metadata": {
        "id": "egLalFlpLZCO"
      }
    },
    {
      "cell_type": "markdown",
      "source": [
        "*I had the derivation all written up nicely in LATEX, but my notebook didn't save for some reason. So I lost it, I'll redo the most important parts here.*\n",
        "\n",
        "Thermodynamic experiments can't measure the total energy (enthalpy, entropy, ect) of a system, they can only do it up to an additive constant. They can measure variations of said quantities.  \n",
        "\n",
        "$$C_V ≡ (\\frac{δ E}{δ T})_{N,V}$$\n",
        "\n",
        "Using the above equations it is obvious that you could measure the energy at several different temperatures and take the numerical derivative to get the heat capacity. However, with some fancy math you can also get the heat capcity by measuring the flucations in the energy.\n",
        "\n",
        "We get:\n",
        "\n",
        "$$C_V ≡ (\\frac{δ E}{δ T})_{N,V} = \\frac{-1}{k_B T^2}(\\frac{δE}{δ β})_{N, V}$$\n",
        "\n",
        "by converting temperature into $\\beta = \\frac{1}{k_B T}$.\n",
        "\n",
        "Next you can show that:\n",
        "\n",
        "$$(\\frac{δE}{δ β})_{N, V} = -[⟨E^2⟩ - ⟨E⟩^2]$$\n",
        "\n",
        "using equations 2.2.13, 2.2.14, and 2.1.36.\n",
        "\n",
        "You can also show that with MD simulations at NVE you can measure heat capacity by measuring the variance in KE using the equation below:\n",
        "\n",
        "$$⟨\\mathcal{K}^2⟩_{NVE} - ⟨\\mathcal{K}⟩^2_{NVE} = \\frac{3 N k_B^2 T^2}{2}(1-\\frac{3Nk_B}{2C_V})$$\n",
        "\n",
        "You can also measure heat capcity at NP."
      ],
      "metadata": {
        "id": "rWLQvLjqLZFd"
      }
    },
    {
      "cell_type": "markdown",
      "source": [
        "### Pressure"
      ],
      "metadata": {
        "id": "GdXyBu1xLZIf"
      }
    },
    {
      "cell_type": "markdown",
      "source": [
        "Pressure is often calculated using the below equation:\n",
        "$$P = - \\left(\\frac{δF}{δ V}\\right)_{N,T}$$\n",
        "\n",
        "Since differentiating volume is difficult with periodic boundary conditions scaled coordinates are often used.\n",
        "\n",
        "$$\\mathbf{s}_i ≡ \\frac{\\mathbf{r}_i}{L}$$\n",
        "\n",
        "Further complications arise when you have a density dependent term.\n",
        "\n",
        "#### Pressure by thermodynmic integration\n",
        "When volume is not a continous variable you can do a thermodynamic calculation:\n",
        "$$d(PV)_{VT}= N dμ$$\n",
        "\n",
        "#### Local pressure and metho of planes\n",
        "You can compute mechanical pressure by looking at a plane and calculate the net momentum through the plane, there are 2 contributions:\n",
        "* The momentum of the particle via $ρ(x) k_B T$\n",
        "* The force the feel with particles on the far side of the plane\n",
        "#### Virtual Volume Changes\n",
        "Useful for non-sperical, non-pairwise interactions.\n",
        "#### Compressibilty\n",
        "$$β_T = \\frac{1}{\\rho} \\left( \\frac{δ ρ}{δ P} \\right)_{N,T}$$\n",
        "\n"
      ],
      "metadata": {
        "id": "BdcGidlfLZL8"
      }
    },
    {
      "cell_type": "markdown",
      "source": [
        "### Surface Tension"
      ],
      "metadata": {
        "id": "u2fA7uf-LZPU"
      }
    },
    {
      "cell_type": "markdown",
      "source": [
        "#### Surface tensions from virtual moves\n",
        "\n",
        "#### Surface free-energy density and surface stress\n",
        "\n",
        "#### Free energy of curved surfaces"
      ],
      "metadata": {
        "id": "0xO9AFvxLZS4"
      }
    },
    {
      "cell_type": "markdown",
      "source": [
        "### Structural Properties"
      ],
      "metadata": {
        "id": "yEYUjyNXLZWc"
      }
    },
    {
      "cell_type": "markdown",
      "source": [
        "#### Structure factor\n",
        "\n",
        "#### Radial Distribution Function"
      ],
      "metadata": {
        "id": "imqgo_rtMOPm"
      }
    },
    {
      "cell_type": "markdown",
      "source": [
        "## Dynamic Properties"
      ],
      "metadata": {
        "id": "EFMbuF6mMOZu"
      }
    },
    {
      "cell_type": "markdown",
      "source": [],
      "metadata": {
        "id": "Pic-mqoXMUJ6"
      }
    },
    {
      "cell_type": "markdown",
      "source": [
        "### Diffusion"
      ],
      "metadata": {
        "id": "UEzsofzKMUMr"
      }
    },
    {
      "cell_type": "markdown",
      "source": [],
      "metadata": {
        "id": "wZhiVySOMUPk"
      }
    },
    {
      "cell_type": "markdown",
      "source": [
        "### Order-n algorithm to measure correlations"
      ],
      "metadata": {
        "id": "ucLeruUXMUSv"
      }
    },
    {
      "cell_type": "markdown",
      "source": [],
      "metadata": {
        "id": "8YAQ1_r9MUVZ"
      }
    },
    {
      "cell_type": "markdown",
      "source": [
        "### Comments on the Green-Kubo relations"
      ],
      "metadata": {
        "id": "JyVHhyrXMUYM"
      }
    },
    {
      "cell_type": "markdown",
      "source": [],
      "metadata": {
        "id": "hC3aSUnjMUbq"
      }
    },
    {
      "cell_type": "markdown",
      "source": [
        "## Statistical errors"
      ],
      "metadata": {
        "id": "V1nPkuolMoZL"
      }
    },
    {
      "cell_type": "markdown",
      "source": [],
      "metadata": {
        "id": "UIE9TSvhMoiq"
      }
    },
    {
      "cell_type": "markdown",
      "source": [
        "### Static properties: System Size"
      ],
      "metadata": {
        "id": "2NeRgTYpMomF"
      }
    },
    {
      "cell_type": "markdown",
      "source": [],
      "metadata": {
        "id": "mOyZ1IV6Mo2W"
      }
    },
    {
      "cell_type": "markdown",
      "source": [
        "### Correlation functions"
      ],
      "metadata": {
        "id": "lYwoBWyyM1jv"
      }
    },
    {
      "cell_type": "markdown",
      "source": [],
      "metadata": {
        "id": "oZ0NWUAUM1m_"
      }
    },
    {
      "cell_type": "markdown",
      "source": [
        "### Block Averages"
      ],
      "metadata": {
        "id": "HLCRe2sJM1qX"
      }
    },
    {
      "cell_type": "code",
      "execution_count": null,
      "metadata": {
        "id": "4G7G2Fy0z3R_"
      },
      "outputs": [],
      "source": []
    }
  ]
}