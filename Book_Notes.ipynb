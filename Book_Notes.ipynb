{
  "nbformat": 4,
  "nbformat_minor": 0,
  "metadata": {
    "colab": {
      "provenance": [],
      "authorship_tag": "ABX9TyPEoWOxoDPLjivijzWbgmkh",
      "include_colab_link": true
    },
    "kernelspec": {
      "name": "python3",
      "display_name": "Python 3"
    },
    "language_info": {
      "name": "python"
    }
  },
  "cells": [
    {
      "cell_type": "markdown",
      "metadata": {
        "id": "view-in-github",
        "colab_type": "text"
      },
      "source": [
        "<a href=\"https://colab.research.google.com/github/shawk17/563-shawk17/blob/main/Book_Notes.ipynb\" target=\"_parent\"><img src=\"https://colab.research.google.com/assets/colab-badge.svg\" alt=\"Open In Colab\"/></a>"
      ]
    },
    {
      "cell_type": "markdown",
      "source": [
        "# Book Notes\n",
        "Most of my notes are directly in my book."
      ],
      "metadata": {
        "id": "NNRO6KASz93g"
      }
    },
    {
      "cell_type": "markdown",
      "source": [
        "## Chapter 5"
      ],
      "metadata": {
        "id": "KbB3JOtX0GFX"
      }
    },
    {
      "cell_type": "code",
      "execution_count": null,
      "metadata": {
        "id": "4G7G2Fy0z3R_"
      },
      "outputs": [],
      "source": []
    }
  ]
}