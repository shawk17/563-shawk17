{
  "nbformat": 4,
  "nbformat_minor": 0,
  "metadata": {
    "colab": {
      "provenance": [],
      "authorship_tag": "ABX9TyNqXltSUwv/Nwd9dxciUiIT",
      "include_colab_link": true
    },
    "kernelspec": {
      "name": "python3",
      "display_name": "Python 3"
    },
    "language_info": {
      "name": "python"
    }
  },
  "cells": [
    {
      "cell_type": "markdown",
      "metadata": {
        "id": "view-in-github",
        "colab_type": "text"
      },
      "source": [
        "<a href=\"https://colab.research.google.com/github/shawk17/563-shawk17/blob/main/Assignment_1.ipynb\" target=\"_parent\"><img src=\"https://colab.research.google.com/assets/colab-badge.svg\" alt=\"Open In Colab\"/></a>"
      ]
    },
    {
      "cell_type": "markdown",
      "source": [
        "1. System A has 2 subsystems $A_1$ and $A_2$ for which $\\Omega_1 = 10^{20}$ and $\\Omega_2 = 10^{22}$ What is the total configurations avaible to the combined system? What is S, $S_1$, and $S_2$.\n",
        "$$S = k_b \\ln(\\Omega)$$\n",
        "$$\\Omega_t = \\Omega_1 * \\Omega_2$$\n",
        "$$k_b = 1.381*10^{-23} \\frac{J}{K}$$"
      ],
      "metadata": {
        "id": "cyvKT0zdVrMv"
      }
    },
    {
      "cell_type": "code",
      "execution_count": 5,
      "metadata": {
        "id": "p8_o0WIQVZlv",
        "colab": {
          "base_uri": "https://localhost:8080/"
        },
        "outputId": "06582467-9a31-451b-e36e-093afaeef328"
      },
      "outputs": [
        {
          "output_type": "stream",
          "name": "stdout",
          "text": [
            "Total states 1.000e+44\n",
            "Entropy state 1: 6.678e-22 J/K\n",
            "Entropy state 2: 7.314e-22 J/K\n",
            "Total entropy: 1.399e-21 J/K\n"
          ]
        }
      ],
      "source": [
        "import numpy as np\n",
        "omega1 = 10E20\n",
        "omega2 = 10E22\n",
        "omega_t = omega1 * omega2\n",
        "k_b = 1.381E-23\n",
        "s = k_b * np.log(omega_t)\n",
        "s1 = k_b * np.log(omega1)\n",
        "s2 = k_b * np.log(omega2)\n",
        "print(f'Total states {omega_t:.3e}')\n",
        "print(f'Entropy state 1: {s1:.3e} J/K')\n",
        "print(f'Entropy state 2: {s2:.3e} J/K')\n",
        "print(f'Total entropy: {s:.3e} J/K')"
      ]
    },
    {
      "cell_type": "markdown",
      "source": [
        "2. By what factor does the number of available configurations increase when 10 $m^3$ of air at 1.0 atm and 300 K is allowed to expand by 0.001% at constant temperatur?\n",
        "$$\\Delta S = n R \\ln{\\frac{V_2}{V_1}}$$\n",
        "$$\\Omega = \\exp{\\frac{\\Delta S}{k_b}}$$"
      ],
      "metadata": {
        "id": "Ihl6gUIRZgcy"
      }
    },
    {
      "cell_type": "code",
      "source": [
        "import numpy as np\n",
        "\n",
        "V1 = 10\n",
        "change = 1.00001\n",
        "V2 = V1 * change\n",
        "T = 300\n",
        "P = 101325\n",
        "k_b = 1.381E-23\n",
        "dS = P * V1/T * np.log(V2/V1)\n",
        "print(f'Delta S: {dS:.3e} J/K')\n",
        "print(f'Omega increases by a factor of e^{dS/k_b:.2e}')"
      ],
      "metadata": {
        "colab": {
          "base_uri": "https://localhost:8080/"
        },
        "id": "xp3FFUWXZg0f",
        "outputId": "668929a5-b522-406c-b53e-67c1cf2621ae"
      },
      "execution_count": 12,
      "outputs": [
        {
          "output_type": "stream",
          "name": "stdout",
          "text": [
            "Delta S: 3.377e-02 J/K\n",
            "Omega increases by a factor of e^2.45e+21\n"
          ]
        }
      ]
    },
    {
      "cell_type": "markdown",
      "source": [
        "3. By what factor does the number of available configurations increase when 150 kJ is added to a system containing 2.0 mol of particles at a constant volume and T = 300K?\n",
        "$$E = nRT$$\n",
        "$$R = 8.314 \\frac{kJ}{mol K}$$\n",
        "$$\\Delta S = nC_v \\ln(\\frac{T_2}{T_1})$$"
      ],
      "metadata": {
        "id": "h_TW4CqQYS3g"
      }
    },
    {
      "cell_type": "code",
      "source": [],
      "metadata": {
        "id": "lBceiBL0g2XE"
      },
      "execution_count": null,
      "outputs": []
    },
    {
      "cell_type": "code",
      "source": [
        "import numpy as np\n",
        "R = 8.314 # kJ/(mol K)\n",
        "k_b = 1.381E-23\n",
        "n = 2\n",
        "T1 = 300\n",
        "dE = 150000 # J\n",
        "\n",
        "Cv = 3/2 * R * n # Ideal gas with 3 degrees of freedom\n",
        "T2 = dE / Cv + T1\n",
        "dS = Cv * np.log(T2/T1)\n",
        "print(f'T2: {T2:.3f} K')\n",
        "print(f'Delta S: {dS:.3e} J/K')\n",
        "print(f'Omega increases by a factor of e^{dS/k_b:.2e}')"
      ],
      "metadata": {
        "colab": {
          "base_uri": "https://localhost:8080/"
        },
        "id": "IzuLIVQYXIrc",
        "outputId": "6bdfeeeb-095e-4648-b744-28c4ecdf6827"
      },
      "execution_count": 10,
      "outputs": [
        {
          "output_type": "stream",
          "name": "stdout",
          "text": [
            "T2: 6313.952 K\n",
            "Delta S: 7.599e+01 J/K\n",
            "Omega increases by a factor of e^5.50e+24\n"
          ]
        }
      ]
    },
    {
      "cell_type": "markdown",
      "source": [
        "4. A sample consisting of 5 molecules has a total energy of 5$\\epsilon$. Each molecule is able to occupy states of energy $\\epsilon$j, with j = 0,1,2,...$∞$. Draw up a table with columns by the energy of the states and write beneath them all configurations that are consistent with the total energy. Identify thy type of configurtion that is most probable.\n",
        "$$\\Omega = \\frac{N!}{\\Pi_i n_i!}$$"
      ],
      "metadata": {
        "id": "NkTuZCvOCTwf"
      }
    },
    {
      "cell_type": "code",
      "source": [
        "import itertools\n",
        "import numpy as np\n",
        "\n",
        "energy_levels = [0, 1, 2, 3, 4, 5]\n",
        "multiplicities = [5,20,20,30,30,20,1]\n",
        "i = 0\n",
        "total_energy = 5\n",
        "particles = [1,2,3,4,5]\n",
        "\n",
        "all_combinations = list(itertools.combinations_with_replacement(energy_levels, 5))\n",
        "for combination  in all_combinations:\n",
        "    if sum(combination) == total_energy:\n",
        "        print(combination, 'With multiplicity',multiplicities[i])\n",
        "        i+=1\n",
        "\n",
        "print(np.array(multiplicities) / sum(multiplicities))"
      ],
      "metadata": {
        "colab": {
          "base_uri": "https://localhost:8080/"
        },
        "id": "N1Wg-A5ihBgC",
        "outputId": "c1a91cfb-f5fa-481c-824e-d22942bb9354"
      },
      "execution_count": 3,
      "outputs": [
        {
          "output_type": "stream",
          "name": "stdout",
          "text": [
            "(0, 0, 0, 0, 5) With multiplicity 5\n",
            "(0, 0, 0, 1, 4) With multiplicity 20\n",
            "(0, 0, 0, 2, 3) With multiplicity 20\n",
            "(0, 0, 1, 1, 3) With multiplicity 30\n",
            "(0, 0, 1, 2, 2) With multiplicity 30\n",
            "(0, 1, 1, 1, 2) With multiplicity 20\n",
            "(1, 1, 1, 1, 1) With multiplicity 1\n",
            "[0.03968254 0.15873016 0.15873016 0.23809524 0.23809524 0.15873016\n",
            " 0.00793651]\n"
          ]
        }
      ]
    },
    {
      "cell_type": "markdown",
      "source": [
        "00112 and 00122 are the most probable"
      ],
      "metadata": {
        "id": "tV4kMYRdb9TV"
      }
    },
    {
      "cell_type": "code",
      "source": [],
      "metadata": {
        "id": "Z9Kue7yCjO5i"
      },
      "execution_count": null,
      "outputs": []
    }
  ]
}