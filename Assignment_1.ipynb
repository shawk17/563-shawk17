{
  "nbformat": 4,
  "nbformat_minor": 0,
  "metadata": {
    "colab": {
      "provenance": [],
      "authorship_tag": "ABX9TyMssd8DGUipdVLkozN5mYGd",
      "include_colab_link": true
    },
    "kernelspec": {
      "name": "python3",
      "display_name": "Python 3"
    },
    "language_info": {
      "name": "python"
    }
  },
  "cells": [
    {
      "cell_type": "markdown",
      "metadata": {
        "id": "view-in-github",
        "colab_type": "text"
      },
      "source": [
        "<a href=\"https://colab.research.google.com/github/shawk17/563-shawk17/blob/main/Assignment_1.ipynb\" target=\"_parent\"><img src=\"https://colab.research.google.com/assets/colab-badge.svg\" alt=\"Open In Colab\"/></a>"
      ]
    },
    {
      "cell_type": "markdown",
      "source": [
        "1. System A has 2 subsystems $A_1$ and $A_2$ for which $\\Omega_1 = 10^{20}$ and $\\Omega_2 = 10^{22}$ What is the total configurations avaible to the combined system? What is S, $S_1$, and $S_2$.\n",
        "$$S = k_b \\ln(\\Omega)$$\n",
        "$$\\Omega_t = \\Omega_1 * \\Omega_2$$\n",
        "$$k_b = 1.381*10^{-23} \\frac{J}{K}$$"
      ],
      "metadata": {
        "id": "cyvKT0zdVrMv"
      }
    },
    {
      "cell_type": "code",
      "execution_count": 5,
      "metadata": {
        "id": "p8_o0WIQVZlv",
        "outputId": "06582467-9a31-451b-e36e-093afaeef328",
        "colab": {
          "base_uri": "https://localhost:8080/"
        }
      },
      "outputs": [
        {
          "output_type": "stream",
          "name": "stdout",
          "text": [
            "Total states 1.000e+44\n",
            "Entropy state 1: 6.678e-22 J/K\n",
            "Entropy state 2: 7.314e-22 J/K\n",
            "Total entropy: 1.399e-21 J/K\n"
          ]
        }
      ],
      "source": [
        "import numpy as np\n",
        "omega1 = 10E20\n",
        "omega2 = 10E22\n",
        "omega_t = omega1 * omega2\n",
        "k_b = 1.381E-23\n",
        "s = k_b * np.log(omega_t)\n",
        "s1 = k_b * np.log(omega1)\n",
        "s2 = k_b * np.log(omega2)\n",
        "print(f'Total states {omega_t:.3e}')\n",
        "print(f'Entropy state 1: {s1:.3e} J/K')\n",
        "print(f'Entropy state 2: {s2:.3e} J/K')\n",
        "print(f'Total entropy: {s:.3e} J/K')"
      ]
    },
    {
      "cell_type": "markdown",
      "source": [
        "2. By what factor does the number of available configurations increase when 10 $m^3$ of air at 1.0 atm and 300 K is allowed to expand by 0.001% at constant temperatur?\n",
        "$$\\Delta S = n R \\ln{\\frac{V_2}{V_1}}$$\n",
        "$$\\Omega = \\exp{\\frac{\\Delta S}{k_b}}$$\n",
        "$$S = nR [\\ln(\\frac{V}{N}(\\frac{4 \\pi m U}{3 h^2 N})^{3/2}) + 5/2]$$\n",
        "$$U = 3/2 n R T$$"
      ],
      "metadata": {
        "id": "Ihl6gUIRZgcy"
      }
    },
    {
      "cell_type": "code",
      "source": [
        "V1 = 10\n",
        "change = 1.00001\n",
        "V2 = V1 * change\n",
        "T = 300\n",
        "P = 101325\n",
        "ds = P * V1/T * np.log(V2/V1)\n",
        "#omega = int(np.e) ** (int(ds/k_b))\n",
        "print(f'Delta S: {ds:.3e} J/K')\n",
        "#print(f'Omega: {omega:.3e}')"
      ],
      "metadata": {
        "id": "xp3FFUWXZg0f",
        "outputId": "22bef923-9d1c-4d3b-9bdd-70f4fa84477d",
        "colab": {
          "base_uri": "https://localhost:8080/"
        }
      },
      "execution_count": 25,
      "outputs": [
        {
          "output_type": "stream",
          "name": "stdout",
          "text": [
            "Delta S: 3.377e-02 J/K\n"
          ]
        }
      ]
    },
    {
      "cell_type": "markdown",
      "source": [
        "3. By what factor does the number of available configurations increase when 150 kJ is added to a system containing 2.0 mol of particles at a constant volume and T = 300K?\n",
        "$$E = nRT$$\n",
        "$$R = 8.314 \\frac{kJ}{mol K}$$\n",
        "$$nC_v \\ln(\\frac{T_2}{T_1})$$"
      ],
      "metadata": {
        "id": "h_TW4CqQYS3g"
      }
    },
    {
      "cell_type": "code",
      "source": [
        "R = 8.314\n",
        "n = 2\n",
        "T1 = 300\n",
        "Ei = n*R*Ti\n",
        "\n",
        "print(f'Ei: {Ei:.3e} kJ')\n",
        "dE = 150 # kJ\n",
        "Cv = 3/2 * R * n # Ideal gas with 3 degrees of freedom\n",
        "T2 = dE * 2 / (3*R*n) + Ti\n",
        "print(f'Tf: {Tf:.3f} K')"
      ],
      "metadata": {
        "id": "IzuLIVQYXIrc",
        "outputId": "b34a5be2-530b-46d3-b749-7dd6f1799dff",
        "colab": {
          "base_uri": "https://localhost:8080/"
        }
      },
      "execution_count": 19,
      "outputs": [
        {
          "output_type": "stream",
          "name": "stdout",
          "text": [
            "Ei: 4.988e+03 J\n",
            "Tf: 306.014 K\n"
          ]
        }
      ]
    },
    {
      "cell_type": "code",
      "source": [],
      "metadata": {
        "id": "N1Wg-A5ihBgC",
        "outputId": "c13a762a-4efa-4dfb-c9a8-8d4e02898f27",
        "colab": {
          "base_uri": "https://localhost:8080/"
        }
      },
      "execution_count": 13,
      "outputs": [
        {
          "output_type": "execute_result",
          "data": {
            "text/plain": [
              "24.942"
            ]
          },
          "metadata": {},
          "execution_count": 13
        }
      ]
    },
    {
      "cell_type": "code",
      "source": [],
      "metadata": {
        "id": "Z9Kue7yCjO5i"
      },
      "execution_count": null,
      "outputs": []
    }
  ]
}