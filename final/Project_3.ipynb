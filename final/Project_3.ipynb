{
  "nbformat": 4,
  "nbformat_minor": 0,
  "metadata": {
    "colab": {
      "provenance": [],
      "authorship_tag": "ABX9TyMV3Gsx2plkZeQ1EtqJbRA+",
      "include_colab_link": true
    },
    "kernelspec": {
      "name": "python3",
      "display_name": "Python 3"
    },
    "language_info": {
      "name": "python"
    }
  },
  "cells": [
    {
      "cell_type": "markdown",
      "metadata": {
        "id": "view-in-github",
        "colab_type": "text"
      },
      "source": [
        "<a href=\"https://colab.research.google.com/github/shawk17/563-shawk17/blob/main/final/Project_3.ipynb\" target=\"_parent\"><img src=\"https://colab.research.google.com/assets/colab-badge.svg\" alt=\"Open In Colab\"/></a>"
      ]
    },
    {
      "cell_type": "markdown",
      "source": [
        "# Project 3 Colab"
      ],
      "metadata": {
        "id": "o6xhrqT57Y1Y"
      }
    },
    {
      "cell_type": "markdown",
      "source": [
        "My project:\n",
        "1. Find the melting point of TIP4P\n",
        "  1. Initialize solid water\n",
        "  1. Turn up the temperature on a simulation\n",
        "  1. Find the temperature at which it melts\n",
        "    * Look at structure\n",
        "    * Look at heat capacity\n",
        "    * Any other way to do that???\n",
        "1. Look at 2 different water molecules (Valerias and TIP6P?)\n",
        "1. Use the Q6 parameter to see if I can freeze the water just below the melting temperature and find the Energy of activation of freezing.\n",
        "  * gromacs+plumed/2024.5/openmpi/4.1.3/gcc/12.1.0 (This build should have the Q6 parameter from plumed, https://www.plumed.org/doc-v2.9/user-doc/html/_q6.html)\n",
        "1. Possible other ideas for continuation if freezing the water does not work.\n",
        "  * Put in different concentations of phloroglucinol molecules to see how that effects the melting temp\n",
        "  * Initialize Cubic Ice to see how that might change the melting point, or if it would to a phase change to hexagonal ice.\n",
        "  * Look how different pressures can change melting temperature\n",
        "  \n",
        "\n"
      ],
      "metadata": {
        "id": "9qjVg3jN8fBD"
      }
    },
    {
      "cell_type": "code",
      "execution_count": null,
      "metadata": {
        "id": "qujBKf7l7VtH"
      },
      "outputs": [],
      "source": []
    }
  ]
}