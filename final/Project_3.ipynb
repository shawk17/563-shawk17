{
  "nbformat": 4,
  "nbformat_minor": 0,
  "metadata": {
    "colab": {
      "provenance": [],
      "authorship_tag": "ABX9TyMTtisDpXGpyJnDzHkAIBZq",
      "include_colab_link": true
    },
    "kernelspec": {
      "name": "python3",
      "display_name": "Python 3"
    },
    "language_info": {
      "name": "python"
    }
  },
  "cells": [
    {
      "cell_type": "markdown",
      "metadata": {
        "id": "view-in-github",
        "colab_type": "text"
      },
      "source": [
        "<a href=\"https://colab.research.google.com/github/shawk17/563-shawk17/blob/main/final/Project_3.ipynb\" target=\"_parent\"><img src=\"https://colab.research.google.com/assets/colab-badge.svg\" alt=\"Open In Colab\"/></a>"
      ]
    },
    {
      "cell_type": "markdown",
      "source": [
        "# Project 3 Colab"
      ],
      "metadata": {
        "id": "o6xhrqT57Y1Y"
      }
    },
    {
      "cell_type": "markdown",
      "source": [
        "$$S(NVT) = \\sum_{E_i}S(NVE_i) p_i$$\n",
        "p is probabilty of given energy.\n",
        "$$ΔG = ΔU + PΔV - TΔS$$\n",
        "Temperature is the knob that determines how much entropy matters.\n",
        "\n",
        "My project:\n",
        "1. Find the melting point of TIP4P\n",
        "  1. Initialize solid water\n",
        "  1. Turn up the temperature on a simulation\n",
        "  1. Find the temperature at which it melts\n",
        "    * Look at structure\n",
        "    * Look at heat capacity\n",
        "    * Any other way to do that???\n",
        "1. Look at 2 different water molecules (Valerias and TIP6P?)\n",
        "1. Possible ideas for continuation\n",
        "  * Put in different concentations of various molecules to see how that effects the melting temp\n",
        "  * Look how different pressures can change melting temperature\n",
        "  * Use some meta-dynamics to see if I can freeze the molecules\n",
        "\n",
        "Impropers will keep atoms in a plane. Different to bonds, angles, dihedrals, charges, and lennard-jones."
      ],
      "metadata": {
        "id": "9qjVg3jN8fBD"
      }
    },
    {
      "cell_type": "code",
      "execution_count": null,
      "metadata": {
        "id": "qujBKf7l7VtH"
      },
      "outputs": [],
      "source": []
    }
  ]
}