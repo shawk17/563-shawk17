{
  "nbformat": 4,
  "nbformat_minor": 0,
  "metadata": {
    "colab": {
      "provenance": [],
      "authorship_tag": "ABX9TyMm3ogGleJkRsToktQf37l5",
      "include_colab_link": true
    },
    "kernelspec": {
      "name": "python3",
      "display_name": "Python 3"
    },
    "language_info": {
      "name": "python"
    }
  },
  "cells": [
    {
      "cell_type": "markdown",
      "metadata": {
        "id": "view-in-github",
        "colab_type": "text"
      },
      "source": [
        "<a href=\"https://colab.research.google.com/github/shawk17/563-shawk17/blob/main/final/Project_3.ipynb\" target=\"_parent\"><img src=\"https://colab.research.google.com/assets/colab-badge.svg\" alt=\"Open In Colab\"/></a>"
      ]
    },
    {
      "cell_type": "markdown",
      "source": [
        "# Project 3 Colab"
      ],
      "metadata": {
        "id": "o6xhrqT57Y1Y"
      }
    },
    {
      "cell_type": "markdown",
      "source": [
        "$$S(NVT) = \\sum_{E_i}S(NVE_i) p_i$$\n",
        "p is probabilty of given energy.\n",
        "$$ΔG = ΔU + PΔV - TΔS$$\n",
        "Temperature is the knob that determines how much entropy matters.\n",
        "\n",
        "My project:\n",
        "1. Find the melting point of TIP4P\n",
        "  1. Initialize solid water\n",
        "  1. Turn up the temperature on a simulation\n",
        "  1. Find the temperature at which it melts\n",
        "    * Look at structure\n",
        "    * Look at heat capacity\n",
        "    * Any other way to do that???\n",
        "1. Look at 2 different water molecules (Valerias and TIP6P)\n",
        "1."
      ],
      "metadata": {
        "id": "9qjVg3jN8fBD"
      }
    },
    {
      "cell_type": "code",
      "execution_count": null,
      "metadata": {
        "id": "qujBKf7l7VtH"
      },
      "outputs": [],
      "source": []
    }
  ]
}