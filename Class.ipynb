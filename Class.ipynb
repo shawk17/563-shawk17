{
  "nbformat": 4,
  "nbformat_minor": 0,
  "metadata": {
    "colab": {
      "provenance": [],
      "toc_visible": true,
      "authorship_tag": "ABX9TyNYJvTWXsnDpmbI0qQJc4Aj",
      "include_colab_link": true
    },
    "kernelspec": {
      "name": "python3",
      "display_name": "Python 3"
    },
    "language_info": {
      "name": "python"
    }
  },
  "cells": [
    {
      "cell_type": "markdown",
      "metadata": {
        "id": "view-in-github",
        "colab_type": "text"
      },
      "source": [
        "<a href=\"https://colab.research.google.com/github/shawk17/563-shawk17/blob/main/Class.ipynb\" target=\"_parent\"><img src=\"https://colab.research.google.com/assets/colab-badge.svg\" alt=\"Open In Colab\"/></a>"
      ]
    },
    {
      "cell_type": "code",
      "execution_count": null,
      "metadata": {
        "id": "ybaMX_uFqVFE",
        "colab": {
          "base_uri": "https://localhost:8080/"
        },
        "outputId": "0b7f5fda-c898-4471-c49f-21f0999cfeae"
      },
      "outputs": [
        {
          "output_type": "stream",
          "name": "stdout",
          "text": [
            "16000000000000000000\n",
            "1208925819614629174706176000000000000000000000000000000000000000000000000000000000000000000000000000000000000000000000000000000000000000000000000000000000000000000000000000000000000000000000000000000000000000000000000000000000000000000000000000000000000000000000000000000000000000000000000000000000000000000000000000000000000000000000000000000000000000000000000000000000000000000000000\n"
          ]
        }
      ],
      "source": [
        "# N = 20, alpha = 4E9, A = alpha^2\n",
        "# Entropy = ???\n",
        "\n",
        "alpha = 4E9\n",
        "places_can_sit = int(alpha)**2\n",
        "N = 20\n",
        "print(places_can_sit)\n",
        "total_congfigs = places_can_sit**N\n",
        "print(total_congfigs)"
      ]
    },
    {
      "cell_type": "code",
      "source": [
        "# how many years will it take to  evaluate\n",
        "# Try to keep the numbers close to 1, adding smaller numbers to large numbers is\n",
        "### less precise than adding the small numbers, then the large numbers\n",
        "cps = int(2.67E9)\n",
        "total_years = total_congfigs // (365*24*60*60*cps) // (10**360)\n",
        "print(total_years)"
      ],
      "metadata": {
        "colab": {
          "base_uri": "https://localhost:8080/"
        },
        "id": "hyFEit_ExRtG",
        "outputId": "843274c6-1a56-4c9a-f14c-9eb7160dd176"
      },
      "execution_count": null,
      "outputs": [
        {
          "output_type": "stream",
          "name": "stdout",
          "text": [
            "14357597\n"
          ]
        }
      ]
    },
    {
      "cell_type": "markdown",
      "source": [
        "# Class 2\n",
        "$$_nC_k = \\frac{n!}{k!(n-k)!} ≈ -n[x\\ln{x} - (1-x)\\ln{1-x}]$$\n",
        "$$x = k/n$$\n",
        "This expression is max at $k = n/2$\n",
        "\n",
        "Describes models of gas molecules in a volume where you have a grid of n empty spots filled with k molecules. It also describes mixing.\n",
        "Flory-Huggins Theory.\n",
        "\n",
        "**Microstate:** Instantaneous positions, velocities, energies, ect.\n",
        "\n",
        "**Macrostate:** What we as humans observe with a system in equillibruim, define an equilibrium ensemble. Set by 3 thermodyamic variables.\n",
        "\n",
        "**<ensemble>** A large number of microstates, all microstates at the same energy are all equally likely.\n",
        "\n",
        "Setting NVT determines EP$\\mu$\n",
        "\n",
        "$$\\frac{1}{k_b T} = \\frac{dS}{dE}|_{N,V}$$\n",
        "T is also related to the KE, basically a molecular spedometer. This is a measuralbe quantity. Temperature fluculates significantly over time.\n",
        "$$<KE> = \\frac{1}{3N} \\sum _i^N{\\frac12 m_iv_i^2}$$\n",
        "$$\\text{fluctuation ~ }  \\frac{1}{\\sqrt{N}}$$\n",
        "\n",
        "At constant temperature systems equipartition energy on average.\n",
        "In the thermodynamic limit $N→∞$, all the macroscopic ensembles are equivalent.\n",
        "$$NVT → P, ~~~~~~~ NPT → V$$\n",
        "We are going to pick the easiest, but we have to check to make sure N is large enough.\n",
        "We need to make sure that N is large enough that you don't get the finite size effect.\n",
        "\n",
        "**NVE** Microcanonical ensemble\n",
        "\n",
        "**NVT** Canocical ensemble\n",
        "\n",
        "**NPT** Isothermal-isobaric ensemble\n",
        "\n",
        "**$\\mu$PT** All Intensive, cannot do with computers\n",
        "\n",
        "**$\\mu$VT** Gibbs ensemble\n",
        "\n",
        "Trick of molecular simulation Using N particles to sample the thermodynamcs limit. We want N to be as small as possible.\n",
        "\n",
        "What is equilibrium?\n",
        "\n",
        "1. *possible* to Sample all microstates.\n",
        "2. Entropy is maximized, and free energy is minimized.\n",
        "3. Macroscopic properties are constant.\n",
        "\n",
        "**Detailed Balance**:\n",
        "$$P_{old} \\pi (o→m) = P_{new} \\pi(n→o)$$\n",
        "P is probability.\n",
        "\n",
        "For example if you have particles that like to be together, the probiblity of them coming apart is equal to the probability of them coming together.\n",
        "\n",
        "$$P(E_i) = \\frac{e^{-E_i}}{kT}{\\sum^{microstates}_j {e^{-E_j/kT}}}$$\n",
        "$$Z = \\sum^{microstates}_j {e^{-E_j/kT}}$$\n",
        "\n",
        "Z is called the partition function and is not calculatable. Some algebra:\n",
        "$$\\frac{P_{old}}{Z} \\pi (o→m) = \\frac{P_{new}}{Z} \\pi(n→o)$$\n",
        "$$\\frac{P_{new}}{P_{old}} = \\frac{\\pi(o→n)}{\\pi(n→o)} = \\frac{e^{-E_{new}/kT}}{e^{-E_{old}/kT}} = e^{\\frac{-ΔE}{kT}}$$\n",
        "If $\\pi(o→n)$ is this expression it should obey detailed balance. Check both cases.\n",
        "$$\\pi(o→n) = e^{\\frac{-ΔE}{kT}} ~~~~ \\text{if  } ΔE >0$$\n",
        "$$\\pi(o→n) = 1 ~~~~ \\text{if  } ΔE < 0$$\n",
        "\n",
        "We can make $\\pi(o→n)$ whatever we want. As long as it obeys detailed balance.\n",
        "\n",
        "Example 2: We will have to calculate the second probabilty.\n",
        "$$P_{\\text{rand part}} * P_{\\text{choose empty site next to another particle}} * \\exp(-ΔE/kT)$$\n",
        "\n",
        "Software:\n",
        "\n",
        "**LAMMPS:** 100,000 of CPU, millions of particles\n",
        "\n",
        "**HOOMD:** Up to millions of particles on 1 GPU\n",
        "\n",
        "Architeture:\n",
        "\n",
        "**intel:** x86\n",
        "\n",
        "**Apple:** arm64\n",
        "\n",
        "**NVIDIA:** cuda\n",
        "\n",
        "**AMD:** openACC\n"
      ],
      "metadata": {
        "id": "KYbp6dKZg3Tt"
      }
    },
    {
      "cell_type": "markdown",
      "source": [
        "## Class 2/3/2025\n",
        "\n",
        "NP hard problem, easy to check how good a particular answer is, $O(N^2)$, but has many potential solutions $Ω = O(V^N)$.\n",
        "\n",
        "You can map NP-complete to any other NP-complete problem. The tetris problem can somehow map to Number Partioning problem. Split a list into 2 list other lists with the closest sum."
      ],
      "metadata": {
        "id": "HxkzXqE8nZ70"
      }
    },
    {
      "cell_type": "code",
      "source": [
        "# Metropolis Montecarlo, perturbs the guess"
      ],
      "metadata": {
        "id": "wYv9mGuI0KmQ"
      },
      "execution_count": null,
      "outputs": []
    }
  ]
}