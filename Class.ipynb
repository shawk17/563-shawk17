{
  "nbformat": 4,
  "nbformat_minor": 0,
  "metadata": {
    "colab": {
      "provenance": [],
      "toc_visible": true,
      "authorship_tag": "ABX9TyNnyoXwVeRlHXYPwnMgfSKC",
      "include_colab_link": true
    },
    "kernelspec": {
      "name": "python3",
      "display_name": "Python 3"
    },
    "language_info": {
      "name": "python"
    }
  },
  "cells": [
    {
      "cell_type": "markdown",
      "metadata": {
        "id": "view-in-github",
        "colab_type": "text"
      },
      "source": [
        "<a href=\"https://colab.research.google.com/github/shawk17/563-shawk17/blob/main/Class.ipynb\" target=\"_parent\"><img src=\"https://colab.research.google.com/assets/colab-badge.svg\" alt=\"Open In Colab\"/></a>"
      ]
    },
    {
      "cell_type": "code",
      "execution_count": null,
      "metadata": {
        "id": "ybaMX_uFqVFE",
        "colab": {
          "base_uri": "https://localhost:8080/"
        },
        "outputId": "0b7f5fda-c898-4471-c49f-21f0999cfeae"
      },
      "outputs": [
        {
          "output_type": "stream",
          "name": "stdout",
          "text": [
            "16000000000000000000\n",
            "1208925819614629174706176000000000000000000000000000000000000000000000000000000000000000000000000000000000000000000000000000000000000000000000000000000000000000000000000000000000000000000000000000000000000000000000000000000000000000000000000000000000000000000000000000000000000000000000000000000000000000000000000000000000000000000000000000000000000000000000000000000000000000000000000\n"
          ]
        }
      ],
      "source": [
        "# N = 20, alpha = 4E9, A = alpha^2\n",
        "# Entropy = ???\n",
        "\n",
        "alpha = 4E9\n",
        "places_can_sit = int(alpha)**2\n",
        "N = 20\n",
        "print(places_can_sit)\n",
        "total_congfigs = places_can_sit**N\n",
        "print(total_congfigs)"
      ]
    },
    {
      "cell_type": "code",
      "source": [
        "# how many years will it take to  evaluate\n",
        "# Try to keep the numbers close to 1, adding smaller numbers to large numbers is\n",
        "### less precise than adding the small numbers, then the large numbers\n",
        "cps = int(2.67E9)\n",
        "total_years = total_congfigs // (365*24*60*60*cps) // (10**360)\n",
        "print(total_years)"
      ],
      "metadata": {
        "colab": {
          "base_uri": "https://localhost:8080/"
        },
        "id": "hyFEit_ExRtG",
        "outputId": "843274c6-1a56-4c9a-f14c-9eb7160dd176"
      },
      "execution_count": null,
      "outputs": [
        {
          "output_type": "stream",
          "name": "stdout",
          "text": [
            "14357597\n"
          ]
        }
      ]
    },
    {
      "cell_type": "markdown",
      "source": [
        "# Class 2\n",
        "$$_nC_k = \\frac{n!}{k!(n-k)!} ≈ -n[x\\ln{x} - (1-x)\\ln{1-x}]$$\n",
        "$$x = k/n$$\n",
        "This expression is max at $k = n/2$\n",
        "\n",
        "Describes models of gas molecules in a volume where you have a grid of n empty spots filled with k molecules. It also describes mixing.\n",
        "Flory-Huggins Theory.\n",
        "\n",
        "**Microstate:** Instantaneous positions, velocities, energies, ect.\n",
        "\n",
        "**Macrostate:** What we as humans observe with a system in equillibruim, define an equilibrium ensemble. Set by 3 thermodyamic variables.\n",
        "\n",
        "**<ensemble>** A large number of microstates, all microstates at the same energy are all equally likely.\n",
        "\n",
        "Setting NVT determines EP$\\mu$\n",
        "\n",
        "$$\\frac{1}{k_b T} = \\frac{dS}{dE}|_{N,V}$$\n",
        "T is also related to the KE, basically a molecular spedometer. This is a measuralbe quantity. Temperature fluculates significantly over time.\n",
        "$$<KE> = \\frac{1}{3N} \\sum _i^N{\\frac12 m_iv_i^2}$$\n",
        "$$\\text{fluctuation ~ }  \\frac{1}{\\sqrt{N}}$$\n",
        "\n",
        "At constant temperature systems equipartition energy on average.\n",
        "In the thermodynamic limit $N→∞$, all the macroscopic ensembles are equivalent.\n",
        "$$NVT → P, ~~~~~~~ NPT → V$$\n",
        "We are going to pick the easiest, but we have to check to make sure N is large enough.\n",
        "We need to make sure that N is large enough that you don't get the finite size effect.\n",
        "\n",
        "**NVE** Microcanonical ensemble\n",
        "\n",
        "**NVT** Canocical ensemble\n",
        "\n",
        "**NPT** Isothermal-isobaric ensemble\n",
        "\n",
        "**$\\mu$PT** All Intensive, cannot do with computers\n",
        "\n",
        "**$\\mu$VT** Gibbs ensemble\n",
        "\n",
        "Trick of molecular simulation Using N particles to sample the thermodynamcs limit. We want N to be as small as possible.\n",
        "\n",
        "What is equilibrium?\n",
        "\n",
        "1. *possible* to Sample all microstates.\n",
        "2. Entropy is maximized, and free energy is minimized.\n",
        "3. Macroscopic properties are constant.\n",
        "\n",
        "**Detailed Balance**:\n",
        "$$P_{old} \\pi (o→m) = P_{new} \\pi(n→o)$$\n",
        "P is probability.\n",
        "\n",
        "For example if you have particles that like to be together, the probiblity of them coming apart is equal to the probability of them coming together.\n",
        "\n",
        "$$P(E_i) = \\frac{e^{-E_i}}{kT}{\\sum^{microstates}_j {e^{-E_j/kT}}}$$\n",
        "$$Z = \\sum^{microstates}_j {e^{-E_j/kT}}$$\n",
        "\n",
        "Z is called the partition function and is not calculatable. Some algebra:\n",
        "$$\\frac{P_{old}}{Z} \\pi (o→m) = \\frac{P_{new}}{Z} \\pi(n→o)$$\n",
        "$$\\frac{P_{new}}{P_{old}} = \\frac{\\pi(o→n)}{\\pi(n→o)} = \\frac{e^{-E_{new}/kT}}{e^{-E_{old}/kT}} = e^{\\frac{-ΔE}{kT}}$$\n",
        "If $\\pi(o→n)$ is this expression it should obey detailed balance. Check both cases.\n",
        "$$\\pi(o→n) = e^{\\frac{-ΔE}{kT}} ~~~~ \\text{if  } ΔE >0$$\n",
        "$$\\pi(o→n) = 1 ~~~~ \\text{if  } ΔE < 0$$\n",
        "\n",
        "We can make $\\pi(o→n)$ whatever we want. As long as it obeys detailed balance.\n",
        "\n",
        "Example 2: We will have to calculate the second probabilty.\n",
        "$$P_{\\text{rand part}} * P_{\\text{choose empty site next to another particle}} * \\exp(-ΔE/kT)$$\n",
        "\n",
        "Software:\n",
        "\n",
        "**LAMMPS:** 100,000 of CPU, millions of particles\n",
        "\n",
        "**HOOMD:** Up to millions of particles on 1 GPU\n",
        "\n",
        "Architeture:\n",
        "\n",
        "**intel:** x86\n",
        "\n",
        "**Apple:** arm64\n",
        "\n",
        "**NVIDIA:** cuda\n",
        "\n",
        "**AMD:** openACC\n"
      ],
      "metadata": {
        "id": "KYbp6dKZg3Tt"
      }
    },
    {
      "cell_type": "markdown",
      "source": [
        "## Class 2/3/2025\n",
        "\n",
        "NP hard problem, easy to check how good a particular answer is, $O(N^2)$, but has many potential solutions $Ω = O(V^N)$.\n",
        "\n",
        "You can map NP-complete to any other NP-complete problem. The tetris problem can somehow map to Number Partioning problem. Split a list into 2 list other lists with the closest sum.\n",
        "\n",
        "Virial Coefficients, how much the gas is way from ideal, look up van der Waals loop (from the land)"
      ],
      "metadata": {
        "id": "HxkzXqE8nZ70"
      }
    },
    {
      "cell_type": "markdown",
      "source": [
        "## 2/10/2025\n",
        "\n",
        "Where we are:\n",
        "* Lattice MC begginings\n",
        "* Started EQ, ensembles\n",
        "\n",
        "Where we are going:\n",
        "* off-lattice\n",
        "* physical forcefields\n",
        "* units\n",
        "* Expand on Ergodicity, and MMC sampling\n",
        "\n",
        "How do we get to the nile? The connectivity of states makes finding equilibrium relatively quickly. Product of the weight times the rate\n",
        "$$P(\\text{old}) \\pi(\\text{old} → \\text{new}) = P(\\text{new}) π(\\text{new} → \\text{old})$$\n",
        "\n",
        "**Ergodicity:** There are no Markov chain islands, every state can be reached from every other state.\n",
        "\n",
        "**Markov chains:** is a chain of sequence of microstates, where the next state can only depend on the current state. (This is often the first condition to go out the window when trying to get fancy)."
      ],
      "metadata": {
        "id": "kd3nOd2SnrBX"
      }
    },
    {
      "cell_type": "markdown",
      "source": [
        "How do you bias the algorithm and still obey detailed balance?\n",
        "You have to relax the algorithm\n",
        "\n",
        "Event chain monte carlo (ECMC) propose multiple moves in one step, accepts with a certain (hard to calculate probabilty)\n",
        "\n",
        "\\begin{array}{|c|c|c|c|}\n",
        "\\hline\\\n",
        "0 & 0 & 0 & 0 & 0\\\\ \\hline\\\n",
        "0 & 0 & 0 & 0 & 0\\\\ \\hline\\\n",
        "0 & 0 & 0 & 0 & 0\\\\ \\hline\\\n",
        "0 & 0 & 0 & 0 & 0\\\\ \\hline\n",
        "\\end{array}"
      ],
      "metadata": {
        "id": "onFlMZmYzhH5"
      }
    },
    {
      "cell_type": "markdown",
      "source": [
        "### Foce Fields PBCs and Units\n",
        "Lennard-Jones: Excellent for atoms, the $(\\frac{1}{r})^6$ you can derive from Van-der-Waals, the $(\\frac{1}{r})^{12}$ is empirically derived Pauli-Exclusion principles.\n",
        "\n",
        "$$U(r) = 4 ϵ ((\\frac{\\sigma}{r})^{12} - (\\frac{σ}{r})^6)$$\n",
        "$σ$: is approximately the surface of the sphere, at $U(r=σ) = 0$, at $U(r<σ) >> 0$ at, $U(r= 2^{1/6}) = -ϵ$\n",
        "\n",
        "$ϵ$: The depth of the well, or how sticky the particles are.\n",
        "\n",
        "One cutoff convention is to choose the minimun image convention, only consider those particles that are closest in pbc.\n",
        "\n",
        "Three options for tail corrections:\n",
        "* Truncate\n",
        "* Truncate and shift (fix discontinuity)\n",
        "* Truncate, shift, and smooth (fix first derivatives)\n",
        "\n",
        "Neighbor list:\n",
        "\n",
        "It is not possible to interact with particles that are more than 2 rcut away, so if you keep track of particles in different boxes of length $r_{cut}$ then you only need to calculate, make sure you have big simulations.\n",
        "\n",
        "#### Units\n",
        "An annoy convention: T, $K_b T$, $\\frac{k_b T}{ϵ}$, are used interchangeably. $\\frac{k_b T}{ϵ}$ is unitless.\n",
        "\n",
        "If we specify these units, we can derive the rest.\n",
        "* mass m\n",
        "* distance σ\n",
        "* energy ϵ\n",
        "* time $τ = \\sqrt{\\frac{m ϵ}{σ^2}}$\n",
        "* pressure $P = \\frac{\\epsilon}{\\sigma^3}$\n",
        "* T = 0.4 $\\frac{ϵ}{k_b}$\n",
        "This will tell you what is hot or cold.\n",
        "\n",
        "**How do you course grain?**\n",
        "* Top down: one site is the smallest thing you can model\n",
        "* Bottom up: 1 site for each atom\n",
        "* First Principles\n",
        "* Meet somewhere in the middle\n",
        "\n"
      ],
      "metadata": {
        "id": "gWWc3FFW6g6z"
      }
    },
    {
      "cell_type": "markdown",
      "source": [
        "# 2/24/2025\n",
        "FT is the fourier transform\n",
        "$$acf = \\frac{FT[data] * FT'[data]}{\\text{normalization}}$$\n",
        "\n",
        "The autocorrelation function (acf) can give us $\\Delta t_d$ is the amount of time that it takes for the acf to drop to 0.\n",
        "\n",
        "Should have 50 or so independent samples."
      ],
      "metadata": {
        "id": "cXrthXa-DQ1c"
      }
    },
    {
      "cell_type": "markdown",
      "source": [
        "# 3/3/2025\n",
        "**State point**: the 3 thermo varibles to set the thermodynamic macrostate: NVT, NPT, NVE.\n",
        "\n",
        "Ideal gas:\n",
        "$$P=\\frac NV RT$$\n",
        "Non-ideal gas:\n",
        "$$P=\\frac NV RT + (\\frac NV)^2 RT + ...$$\n",
        "\n",
        "Finite size effects are more pronouced for low temperatures than for high temperature. This is because $\\frac{N_{surface}}{N_{volume}}$\n"
      ],
      "metadata": {
        "id": "U-2VLv7Zwj8_"
      }
    },
    {
      "cell_type": "code",
      "source": [
        "V_sphere = 4/3 * 3.14 * (2.5**3)\n",
        "print(V_sphere) # About 91 particles\n",
        "# Would need several, millions, of particles to make it so most the particles are on the 'inside'\n"
      ],
      "metadata": {
        "id": "Tikky1uc2DSC",
        "outputId": "74fdb0d8-da62-4c50-b480-08b8e4096a03",
        "colab": {
          "base_uri": "https://localhost:8080/"
        }
      },
      "execution_count": null,
      "outputs": [
        {
          "output_type": "stream",
          "name": "stdout",
          "text": [
            "65.41666666666667\n"
          ]
        }
      ]
    },
    {
      "cell_type": "markdown",
      "source": [
        "#### Hoomd Blue\n",
        "today: run first simulation\n",
        "* How long it takes to\n",
        "  * Equilibrium\n",
        "  * Steps total\n",
        "  * # samples\n",
        "* $(\\frac{<E>}{N}, \\frac{\\sigma}{N})$\n",
        "* $\\frac{-\\delta U(r)}{\\delta r} = F(r)$\n",
        "  * Force fields define potentials\n",
        "* MD\n",
        "  * $x → E, F → F=ma → dv = a dt$\n",
        "  * Euler, Numerical integration\n",
        "\n",
        "Simulation Ensembles, Analysis techniques\n",
        "* Radial distribution function, normalized against IG\n",
        "* Pressures, Stress tensors\n",
        "* Heat Capacities (Chapter 5)\n",
        "\n",
        "Set up\n",
        "*\n"
      ],
      "metadata": {
        "id": "Kvb7E8KU5921"
      }
    },
    {
      "cell_type": "markdown",
      "source": [
        "## 3/31/2025\n",
        "3 papers we want the teacher to read.\n",
        "\n",
        "### Project 3\n",
        "* Monte Carlo or MD\n",
        "* Answer a question that is relevant to your research\n",
        "* What are properties we can calculate from ensemble\n",
        "  * Static Properties\n",
        "    * Stucture\n",
        "    * Energy (things you calculate anyway)\n",
        "    * Pressure\n",
        "  * Dynamic properties (get from time integrals MD-only) Green Kubo relations\n",
        "    * Diffusion coifficinets\n",
        "    * Viscosity\n",
        "    * Thermal conductivity\n",
        "    * D = $∫^∞_0 dτ <v(τ)v(0)>$\n",
        "      * Velocity auto correlation function\n",
        "$η = ∫^∞_0 dτ <σ^{xy}(0)σ^{xy}(τ)>$\n",
        "$$σ^{xy} = ∑^N_{i=1}(m_i v_i^x v_i^y + \\frac{1}{2}∑_{j\\neq i}x_{ij} f_y(r_{ij}))$$\n",
        "  * Relatively simple models\n",
        "    * Pre-Made\n",
        "    * Simple bond, angle, ect\n",
        "    * Little to no parameterization\n",
        "\n",
        "#### Fick's Law\n",
        "Flux\n",
        "$$j = -D ∇c$$\n",
        "* c is the concentration gradient\n",
        "* D is diffusivity\n",
        "* At equilibrium the net flux is 0 because the concentration gradient\n",
        "\n",
        "$$\\frac{dc(rt)}{dt} + ∇ ̇̇j(r,t) = 0$$\n",
        "$$\\frac{dc(rt)}{dt} - D∇^2 ̇̇c(r,t) = 0$$\n",
        "$$c(r,t) = \\frac{e^{-r^2/(4Dt)}}{(4 π D t)^{d/2}}$$\n",
        "\n",
        "$$\\frac{δ<r^2(t)>}{δt} = 2 d D$$\n",
        "\n",
        "Slope of the mean squared displacement is equal to 2dD.\n",
        "\n",
        "You might get 2 different slopes for the mean squared displacement, the balistic motion and diffusive motion.\n",
        "\n",
        "d is the number of dimension\n",
        "\n",
        "#### Questions\n",
        "* What is the melting temperature of water molecules?\n",
        "  * Can I look at different water models?\n",
        "  * How do you measure if something is liquid or solid?\n",
        "  \n",
        "* What attributes influence freezing of water?\n",
        "  * See paper\n",
        "* What is the energy barrier to freezing?\n",
        "* What is the best water model to measure the freezing phenomen?\n",
        "* Can I see if things will decrease the freezing temperatures?\n",
        "\n",
        "NVT, You can calculate ΔS, if you can measure the two phases at the same temp\n",
        "$$A = U - TS$$\n",
        "\n",
        "When sphere aggreagate, the excluded volume decreases, increasing entropy.\n"
      ],
      "metadata": {
        "id": "dSUpM3JfspbO"
      }
    },
    {
      "cell_type": "code",
      "source": [],
      "metadata": {
        "id": "43auSocp3yZo"
      },
      "execution_count": null,
      "outputs": []
    }
  ]
}